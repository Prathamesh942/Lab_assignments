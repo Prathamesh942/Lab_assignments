{
 "cells": [
  {
   "cell_type": "code",
   "execution_count": 1,
   "id": "66fbbd30-bec5-4585-942f-24509c04a663",
   "metadata": {},
   "outputs": [],
   "source": [
    "import pandas as pd\n",
    "import numpy as np\n",
    "import matplotlib.pyplot as plt\n",
    "import seaborn as sns"
   ]
  },
  {
   "cell_type": "code",
   "execution_count": 2,
   "id": "91443c14-3b0c-4fe3-9090-cfeb8929be0d",
   "metadata": {},
   "outputs": [],
   "source": [
    "df = pd.read_csv('placement_data.csv')"
   ]
  },
  {
   "cell_type": "code",
   "execution_count": 3,
   "id": "f84f3df6-7824-452a-86ad-198bab46b113",
   "metadata": {},
   "outputs": [],
   "source": [
    "ndf = df"
   ]
  },
  {
   "cell_type": "code",
   "execution_count": 4,
   "id": "e3558a35-846c-497d-82a9-298c3c117592",
   "metadata": {},
   "outputs": [
    {
     "data": {
      "text/html": [
       "<div>\n",
       "<style scoped>\n",
       "    .dataframe tbody tr th:only-of-type {\n",
       "        vertical-align: middle;\n",
       "    }\n",
       "\n",
       "    .dataframe tbody tr th {\n",
       "        vertical-align: top;\n",
       "    }\n",
       "\n",
       "    .dataframe thead th {\n",
       "        text-align: right;\n",
       "    }\n",
       "</style>\n",
       "<table border=\"1\" class=\"dataframe\">\n",
       "  <thead>\n",
       "    <tr style=\"text-align: right;\">\n",
       "      <th></th>\n",
       "      <th>math_score</th>\n",
       "      <th>reading_score</th>\n",
       "      <th>writing_score</th>\n",
       "      <th>placement_score</th>\n",
       "      <th>club_join_year</th>\n",
       "      <th>placement_offer_count</th>\n",
       "    </tr>\n",
       "  </thead>\n",
       "  <tbody>\n",
       "    <tr>\n",
       "      <th>0</th>\n",
       "      <td>79.0</td>\n",
       "      <td>NaN</td>\n",
       "      <td>81.0</td>\n",
       "      <td>75</td>\n",
       "      <td>2018</td>\n",
       "      <td>1</td>\n",
       "    </tr>\n",
       "    <tr>\n",
       "      <th>1</th>\n",
       "      <td>66.0</td>\n",
       "      <td>78.0</td>\n",
       "      <td>NaN</td>\n",
       "      <td>40</td>\n",
       "      <td>2022</td>\n",
       "      <td>1</td>\n",
       "    </tr>\n",
       "    <tr>\n",
       "      <th>2</th>\n",
       "      <td>67.0</td>\n",
       "      <td>NaN</td>\n",
       "      <td>NaN</td>\n",
       "      <td>77</td>\n",
       "      <td>2018</td>\n",
       "      <td>1</td>\n",
       "    </tr>\n",
       "    <tr>\n",
       "      <th>3</th>\n",
       "      <td>62.0</td>\n",
       "      <td>87.0</td>\n",
       "      <td>66.0</td>\n",
       "      <td>100</td>\n",
       "      <td>2021</td>\n",
       "      <td>3</td>\n",
       "    </tr>\n",
       "    <tr>\n",
       "      <th>4</th>\n",
       "      <td>78.0</td>\n",
       "      <td>85.0</td>\n",
       "      <td>80.0</td>\n",
       "      <td>20</td>\n",
       "      <td>2018</td>\n",
       "      <td>3</td>\n",
       "    </tr>\n",
       "  </tbody>\n",
       "</table>\n",
       "</div>"
      ],
      "text/plain": [
       "   math_score  reading_score  writing_score  placement_score  club_join_year  \\\n",
       "0        79.0            NaN           81.0               75            2018   \n",
       "1        66.0           78.0            NaN               40            2022   \n",
       "2        67.0            NaN            NaN               77            2018   \n",
       "3        62.0           87.0           66.0              100            2021   \n",
       "4        78.0           85.0           80.0               20            2018   \n",
       "\n",
       "   placement_offer_count  \n",
       "0                      1  \n",
       "1                      1  \n",
       "2                      1  \n",
       "3                      3  \n",
       "4                      3  "
      ]
     },
     "execution_count": 4,
     "metadata": {},
     "output_type": "execute_result"
    }
   ],
   "source": [
    "ndf.head()"
   ]
  },
  {
   "cell_type": "code",
   "execution_count": 5,
   "id": "e07e923e-e31a-4e93-b59d-2a7584e396b1",
   "metadata": {},
   "outputs": [
    {
     "data": {
      "text/plain": [
       "(50, 6)"
      ]
     },
     "execution_count": 5,
     "metadata": {},
     "output_type": "execute_result"
    }
   ],
   "source": [
    "ndf.shape"
   ]
  },
  {
   "cell_type": "code",
   "execution_count": 6,
   "id": "4b793407-4645-42bf-957e-8f8bf070aae0",
   "metadata": {},
   "outputs": [],
   "source": [
    "# PART I - \n",
    "# Scan all variables for missing values and inconsistencies. If there are missing values and/or\n",
    "# inconsistencies, use any of the suitable techniques to deal with them."
   ]
  },
  {
   "cell_type": "code",
   "execution_count": 7,
   "id": "96ac37f3-e386-4dc5-92f7-cf199c663021",
   "metadata": {},
   "outputs": [
    {
     "data": {
      "text/plain": [
       "math_score                3\n",
       "reading_score            11\n",
       "writing_score            12\n",
       "placement_score           0\n",
       "club_join_year            0\n",
       "placement_offer_count     0\n",
       "dtype: int64"
      ]
     },
     "execution_count": 7,
     "metadata": {},
     "output_type": "execute_result"
    }
   ],
   "source": [
    "ndf.isnull().sum()"
   ]
  },
  {
   "cell_type": "code",
   "execution_count": 8,
   "id": "4ca884c9-046e-44cf-8527-57e318b3e4ef",
   "metadata": {},
   "outputs": [],
   "source": [
    "#using drop method to to drop rows with math_score = null\n",
    "ndf = ndf.dropna(subset=['math_score'])"
   ]
  },
  {
   "cell_type": "code",
   "execution_count": 9,
   "id": "6abdacc7-d030-4e30-b8ca-d7f93144c4f3",
   "metadata": {},
   "outputs": [
    {
     "data": {
      "text/plain": [
       "math_score                0\n",
       "reading_score            10\n",
       "writing_score            12\n",
       "placement_score           0\n",
       "club_join_year            0\n",
       "placement_offer_count     0\n",
       "dtype: int64"
      ]
     },
     "execution_count": 9,
     "metadata": {},
     "output_type": "execute_result"
    }
   ],
   "source": [
    "ndf.isnull().sum()"
   ]
  },
  {
   "cell_type": "code",
   "execution_count": 10,
   "id": "381faf0e-b7ce-436a-9c86-92ac3a4684c8",
   "metadata": {},
   "outputs": [],
   "source": [
    "import warnings\n",
    "warnings.filterwarnings('ignore')\n"
   ]
  },
  {
   "cell_type": "code",
   "execution_count": 11,
   "id": "3db7654e-8a0b-43ca-bb47-a1c3f03b5abc",
   "metadata": {},
   "outputs": [],
   "source": [
    "#replacing reading_score and writing_score with mean value\n",
    "mean_reading = ndf['reading_score'].mean()\n",
    "mean_writing = ndf['writing_score'].mean()\n",
    "\n",
    "ndf['reading_score'].fillna(mean_reading, inplace=True)\n",
    "ndf['writing_score'].fillna(mean_writing, inplace=True) "
   ]
  },
  {
   "cell_type": "code",
   "execution_count": 12,
   "id": "6712df74-f361-4a51-812a-907e913f36f1",
   "metadata": {},
   "outputs": [
    {
     "data": {
      "text/plain": [
       "math_score               0\n",
       "reading_score            0\n",
       "writing_score            0\n",
       "placement_score          0\n",
       "club_join_year           0\n",
       "placement_offer_count    0\n",
       "dtype: int64"
      ]
     },
     "execution_count": 12,
     "metadata": {},
     "output_type": "execute_result"
    }
   ],
   "source": [
    "ndf.isnull().sum()"
   ]
  },
  {
   "cell_type": "code",
   "execution_count": 13,
   "id": "fa053240-facb-485b-aa7c-da9f4a6a0be6",
   "metadata": {},
   "outputs": [
    {
     "name": "stdout",
     "output_type": "stream",
     "text": [
      "<class 'pandas.core.frame.DataFrame'>\n",
      "Index: 47 entries, 0 to 49\n",
      "Data columns (total 6 columns):\n",
      " #   Column                 Non-Null Count  Dtype  \n",
      "---  ------                 --------------  -----  \n",
      " 0   math_score             47 non-null     float64\n",
      " 1   reading_score          47 non-null     float64\n",
      " 2   writing_score          47 non-null     float64\n",
      " 3   placement_score        47 non-null     int64  \n",
      " 4   club_join_year         47 non-null     int64  \n",
      " 5   placement_offer_count  47 non-null     int64  \n",
      "dtypes: float64(3), int64(3)\n",
      "memory usage: 2.6 KB\n"
     ]
    }
   ],
   "source": [
    "ndf.info()"
   ]
  },
  {
   "cell_type": "code",
   "execution_count": 14,
   "id": "2a8b2466-cfb4-4641-86a8-630a96e3383c",
   "metadata": {},
   "outputs": [
    {
     "data": {
      "text/html": [
       "<div>\n",
       "<style scoped>\n",
       "    .dataframe tbody tr th:only-of-type {\n",
       "        vertical-align: middle;\n",
       "    }\n",
       "\n",
       "    .dataframe tbody tr th {\n",
       "        vertical-align: top;\n",
       "    }\n",
       "\n",
       "    .dataframe thead th {\n",
       "        text-align: right;\n",
       "    }\n",
       "</style>\n",
       "<table border=\"1\" class=\"dataframe\">\n",
       "  <thead>\n",
       "    <tr style=\"text-align: right;\">\n",
       "      <th></th>\n",
       "      <th>math_score</th>\n",
       "      <th>reading_score</th>\n",
       "      <th>writing_score</th>\n",
       "      <th>placement_score</th>\n",
       "      <th>club_join_year</th>\n",
       "      <th>placement_offer_count</th>\n",
       "    </tr>\n",
       "  </thead>\n",
       "  <tbody>\n",
       "    <tr>\n",
       "      <th>0</th>\n",
       "      <td>79.0</td>\n",
       "      <td>73.972973</td>\n",
       "      <td>81.000000</td>\n",
       "      <td>75</td>\n",
       "      <td>2018</td>\n",
       "      <td>1</td>\n",
       "    </tr>\n",
       "    <tr>\n",
       "      <th>1</th>\n",
       "      <td>66.0</td>\n",
       "      <td>78.000000</td>\n",
       "      <td>78.257143</td>\n",
       "      <td>40</td>\n",
       "      <td>2022</td>\n",
       "      <td>1</td>\n",
       "    </tr>\n",
       "    <tr>\n",
       "      <th>2</th>\n",
       "      <td>67.0</td>\n",
       "      <td>73.972973</td>\n",
       "      <td>78.257143</td>\n",
       "      <td>77</td>\n",
       "      <td>2018</td>\n",
       "      <td>1</td>\n",
       "    </tr>\n",
       "    <tr>\n",
       "      <th>3</th>\n",
       "      <td>62.0</td>\n",
       "      <td>87.000000</td>\n",
       "      <td>66.000000</td>\n",
       "      <td>100</td>\n",
       "      <td>2021</td>\n",
       "      <td>3</td>\n",
       "    </tr>\n",
       "    <tr>\n",
       "      <th>4</th>\n",
       "      <td>78.0</td>\n",
       "      <td>85.000000</td>\n",
       "      <td>80.000000</td>\n",
       "      <td>20</td>\n",
       "      <td>2018</td>\n",
       "      <td>3</td>\n",
       "    </tr>\n",
       "  </tbody>\n",
       "</table>\n",
       "</div>"
      ],
      "text/plain": [
       "   math_score  reading_score  writing_score  placement_score  club_join_year  \\\n",
       "0        79.0      73.972973      81.000000               75            2018   \n",
       "1        66.0      78.000000      78.257143               40            2022   \n",
       "2        67.0      73.972973      78.257143               77            2018   \n",
       "3        62.0      87.000000      66.000000              100            2021   \n",
       "4        78.0      85.000000      80.000000               20            2018   \n",
       "\n",
       "   placement_offer_count  \n",
       "0                      1  \n",
       "1                      1  \n",
       "2                      1  \n",
       "3                      3  \n",
       "4                      3  "
      ]
     },
     "execution_count": 14,
     "metadata": {},
     "output_type": "execute_result"
    }
   ],
   "source": [
    "ndf.head()"
   ]
  },
  {
   "cell_type": "code",
   "execution_count": 15,
   "id": "f4248e8a-1a71-424d-b4dc-670f888c3354",
   "metadata": {},
   "outputs": [],
   "source": [
    "ndf['reading_score'] = ndf['reading_score'].astype(int)\n",
    "ndf['writing_score'] = ndf['writing_score'].astype(int)"
   ]
  },
  {
   "cell_type": "code",
   "execution_count": 16,
   "id": "99ab80b9-fc54-44f9-8104-7f465a9ef055",
   "metadata": {},
   "outputs": [
    {
     "data": {
      "text/html": [
       "<div>\n",
       "<style scoped>\n",
       "    .dataframe tbody tr th:only-of-type {\n",
       "        vertical-align: middle;\n",
       "    }\n",
       "\n",
       "    .dataframe tbody tr th {\n",
       "        vertical-align: top;\n",
       "    }\n",
       "\n",
       "    .dataframe thead th {\n",
       "        text-align: right;\n",
       "    }\n",
       "</style>\n",
       "<table border=\"1\" class=\"dataframe\">\n",
       "  <thead>\n",
       "    <tr style=\"text-align: right;\">\n",
       "      <th></th>\n",
       "      <th>math_score</th>\n",
       "      <th>reading_score</th>\n",
       "      <th>writing_score</th>\n",
       "      <th>placement_score</th>\n",
       "      <th>club_join_year</th>\n",
       "      <th>placement_offer_count</th>\n",
       "    </tr>\n",
       "  </thead>\n",
       "  <tbody>\n",
       "    <tr>\n",
       "      <th>0</th>\n",
       "      <td>79.0</td>\n",
       "      <td>73</td>\n",
       "      <td>81</td>\n",
       "      <td>75</td>\n",
       "      <td>2018</td>\n",
       "      <td>1</td>\n",
       "    </tr>\n",
       "    <tr>\n",
       "      <th>1</th>\n",
       "      <td>66.0</td>\n",
       "      <td>78</td>\n",
       "      <td>78</td>\n",
       "      <td>40</td>\n",
       "      <td>2022</td>\n",
       "      <td>1</td>\n",
       "    </tr>\n",
       "    <tr>\n",
       "      <th>2</th>\n",
       "      <td>67.0</td>\n",
       "      <td>73</td>\n",
       "      <td>78</td>\n",
       "      <td>77</td>\n",
       "      <td>2018</td>\n",
       "      <td>1</td>\n",
       "    </tr>\n",
       "    <tr>\n",
       "      <th>3</th>\n",
       "      <td>62.0</td>\n",
       "      <td>87</td>\n",
       "      <td>66</td>\n",
       "      <td>100</td>\n",
       "      <td>2021</td>\n",
       "      <td>3</td>\n",
       "    </tr>\n",
       "    <tr>\n",
       "      <th>4</th>\n",
       "      <td>78.0</td>\n",
       "      <td>85</td>\n",
       "      <td>80</td>\n",
       "      <td>20</td>\n",
       "      <td>2018</td>\n",
       "      <td>3</td>\n",
       "    </tr>\n",
       "  </tbody>\n",
       "</table>\n",
       "</div>"
      ],
      "text/plain": [
       "   math_score  reading_score  writing_score  placement_score  club_join_year  \\\n",
       "0        79.0             73             81               75            2018   \n",
       "1        66.0             78             78               40            2022   \n",
       "2        67.0             73             78               77            2018   \n",
       "3        62.0             87             66              100            2021   \n",
       "4        78.0             85             80               20            2018   \n",
       "\n",
       "   placement_offer_count  \n",
       "0                      1  \n",
       "1                      1  \n",
       "2                      1  \n",
       "3                      3  \n",
       "4                      3  "
      ]
     },
     "execution_count": 16,
     "metadata": {},
     "output_type": "execute_result"
    }
   ],
   "source": [
    "ndf.head()"
   ]
  },
  {
   "cell_type": "code",
   "execution_count": 17,
   "id": "d225e048-eb28-4637-b8db-f7e3d4c2751f",
   "metadata": {},
   "outputs": [],
   "source": [
    "#now data no more contains missing values "
   ]
  },
  {
   "cell_type": "code",
   "execution_count": 18,
   "id": "08841f51-73d0-4fa2-81de-fbf3d03e5608",
   "metadata": {},
   "outputs": [],
   "source": [
    "#PART II -\n",
    "#Scan all numeric variables for outliers. If there are outliers, use any of the suitable\n",
    "#techniques to deal with them."
   ]
  },
  {
   "cell_type": "code",
   "execution_count": 19,
   "id": "7eefd320-0834-48f2-9804-1f5f2aeb1488",
   "metadata": {},
   "outputs": [
    {
     "data": {
      "text/plain": [
       "<Axes: xlabel='placement_score', ylabel='Density'>"
      ]
     },
     "execution_count": 19,
     "metadata": {},
     "output_type": "execute_result"
    },
    {
     "data": {
      "image/png": "[encoded data removed]",
      "text/plain": [
       "<Figure size 1600x500 with 1 Axes>"
      ]
     },
     "metadata": {},
     "output_type": "display_data"
    }
   ],
   "source": [
    "#checking if Z-SCORE method is applicable\n",
    "plt.figure(figsize=(16,5))\n",
    "plt.subplot(1,1,1)\n",
    "sns.distplot(ndf['placement_score'])"
   ]
  },
  {
   "cell_type": "code",
   "execution_count": 20,
   "id": "389baf14-942f-4f58-8c36-d8876122b4cb",
   "metadata": {},
   "outputs": [
    {
     "name": "stdout",
     "output_type": "stream",
     "text": [
      "Mean -  91.38297872340425\n",
      "Standard deviation -  27.97091128102268\n",
      "Min -  20\n",
      "Max -  220\n"
     ]
    }
   ],
   "source": [
    "print(\"Mean - \",ndf['placement_score'].mean())\n",
    "print(\"Standard deviation - \",ndf['placement_score'].std())\n",
    "print(\"Min - \",ndf['placement_score'].min())\n",
    "print(\"Max - \",ndf['placement_score'].max())"
   ]
  },
  {
   "cell_type": "code",
   "execution_count": 21,
   "id": "11b2fd3f-ef11-4655-817c-4c55b86433ae",
   "metadata": {},
   "outputs": [
    {
     "name": "stdout",
     "output_type": "stream",
     "text": [
      "Highest allowed 175.29571256647228\n",
      "Lowest allowed 7.47024488033621\n"
     ]
    }
   ],
   "source": [
    "print(\"Highest allowed\",ndf['placement_score'].mean() + 3*ndf['placement_score'].std())\n",
    "print(\"Lowest allowed\",ndf['placement_score'].mean() - 3*ndf['placement_score'].std())"
   ]
  },
  {
   "cell_type": "code",
   "execution_count": 22,
   "id": "1cb87d48-6c23-43c1-b221-77c7a649d316",
   "metadata": {},
   "outputs": [
    {
     "data": {
      "text/html": [
       "<div>\n",
       "<style scoped>\n",
       "    .dataframe tbody tr th:only-of-type {\n",
       "        vertical-align: middle;\n",
       "    }\n",
       "\n",
       "    .dataframe tbody tr th {\n",
       "        vertical-align: top;\n",
       "    }\n",
       "\n",
       "    .dataframe thead th {\n",
       "        text-align: right;\n",
       "    }\n",
       "</style>\n",
       "<table border=\"1\" class=\"dataframe\">\n",
       "  <thead>\n",
       "    <tr style=\"text-align: right;\">\n",
       "      <th></th>\n",
       "      <th>math_score</th>\n",
       "      <th>reading_score</th>\n",
       "      <th>writing_score</th>\n",
       "      <th>placement_score</th>\n",
       "      <th>club_join_year</th>\n",
       "      <th>placement_offer_count</th>\n",
       "    </tr>\n",
       "  </thead>\n",
       "  <tbody>\n",
       "    <tr>\n",
       "      <th>21</th>\n",
       "      <td>76.0</td>\n",
       "      <td>62</td>\n",
       "      <td>78</td>\n",
       "      <td>220</td>\n",
       "      <td>2023</td>\n",
       "      <td>3</td>\n",
       "    </tr>\n",
       "  </tbody>\n",
       "</table>\n",
       "</div>"
      ],
      "text/plain": [
       "    math_score  reading_score  writing_score  placement_score  club_join_year  \\\n",
       "21        76.0             62             78              220            2023   \n",
       "\n",
       "    placement_offer_count  \n",
       "21                      3  "
      ]
     },
     "execution_count": 22,
     "metadata": {},
     "output_type": "execute_result"
    }
   ],
   "source": [
    "ndf[(ndf['placement_score']>175)| (ndf['placement_score'] < 7)]"
   ]
  },
  {
   "cell_type": "code",
   "execution_count": 23,
   "id": "b6fac675-6f9f-4e9a-800c-63f920ea8ee1",
   "metadata": {},
   "outputs": [],
   "source": [
    "#here since data is not normally distributed this method does not detect outliers properly\n",
    "#so another method is used known as IQR method"
   ]
  },
  {
   "cell_type": "code",
   "execution_count": 24,
   "id": "10a45047-45b0-4feb-9956-b9aa013221fd",
   "metadata": {},
   "outputs": [
    {
     "data": {
      "text/plain": [
       "2.285636769153689"
      ]
     },
     "execution_count": 24,
     "metadata": {},
     "output_type": "execute_result"
    }
   ],
   "source": [
    "ndf['placement_score'].skew()"
   ]
  },
  {
   "cell_type": "code",
   "execution_count": 25,
   "id": "6054ff2d-39fa-4e60-aeb4-a8faedac360a",
   "metadata": {},
   "outputs": [
    {
     "data": {
      "text/plain": [
       "count     47.000000\n",
       "mean      91.382979\n",
       "std       27.970911\n",
       "min       20.000000\n",
       "25%       81.000000\n",
       "50%       89.000000\n",
       "75%       97.000000\n",
       "max      220.000000\n",
       "Name: placement_score, dtype: float64"
      ]
     },
     "execution_count": 25,
     "metadata": {},
     "output_type": "execute_result"
    }
   ],
   "source": [
    "#getting the statistics\n",
    "ndf['placement_score'].describe()"
   ]
  },
  {
   "cell_type": "code",
   "execution_count": 26,
   "id": "3fb833ed-f2da-4047-9e31-066a2d4b5975",
   "metadata": {},
   "outputs": [
    {
     "data": {
      "text/plain": [
       "<Axes: ylabel='placement_score'>"
      ]
     },
     "execution_count": 26,
     "metadata": {},
     "output_type": "execute_result"
    },
    {
     "data": {
      "image/png": "[encoded data removed]",
      "text/plain": [
       "<Figure size 640x480 with 1 Axes>"
      ]
     },
     "metadata": {},
     "output_type": "display_data"
    }
   ],
   "source": [
    "sns.boxplot(ndf['placement_score'])"
   ]
  },
  {
   "cell_type": "code",
   "execution_count": 27,
   "id": "18ea1a00-71fb-4d9f-8ebe-6ed5e2d7e330",
   "metadata": {},
   "outputs": [],
   "source": [
    "p25 = ndf['placement_score'].quantile(0.25)\n",
    "p75 = ndf['placement_score'].quantile(0.75)"
   ]
  },
  {
   "cell_type": "code",
   "execution_count": 28,
   "id": "6ed0258b-3176-44ae-a1c6-4c1154c14b00",
   "metadata": {},
   "outputs": [
    {
     "data": {
      "text/plain": [
       "81.0"
      ]
     },
     "execution_count": 28,
     "metadata": {},
     "output_type": "execute_result"
    }
   ],
   "source": [
    "p25"
   ]
  },
  {
   "cell_type": "code",
   "execution_count": 29,
   "id": "d8316f9a-6fd3-4a8a-af83-fe875f4b3e01",
   "metadata": {},
   "outputs": [
    {
     "data": {
      "text/plain": [
       "97.0"
      ]
     },
     "execution_count": 29,
     "metadata": {},
     "output_type": "execute_result"
    }
   ],
   "source": [
    "p75"
   ]
  },
  {
   "cell_type": "code",
   "execution_count": 30,
   "id": "5f12325b-e22b-422b-a9cb-2b3a8c88e5e9",
   "metadata": {},
   "outputs": [],
   "source": [
    "iqr = p75 - p25"
   ]
  },
  {
   "cell_type": "code",
   "execution_count": 31,
   "id": "dc9cb869-79d7-4b45-a341-6880b37f35f9",
   "metadata": {},
   "outputs": [],
   "source": [
    "upper_bound = p75 + 1.5 * iqr\n",
    "lower_bound = p25 - 1.5 * iqr"
   ]
  },
  {
   "cell_type": "code",
   "execution_count": 32,
   "id": "ec80c119-25db-4a65-afda-7ac6205fd46b",
   "metadata": {},
   "outputs": [
    {
     "name": "stdout",
     "output_type": "stream",
     "text": [
      "Upper bound 121.0\n",
      "Lower bound 57.0\n"
     ]
    }
   ],
   "source": [
    "print(\"Upper bound\", upper_bound)\n",
    "print(\"Lower bound\", lower_bound)"
   ]
  },
  {
   "cell_type": "code",
   "execution_count": 33,
   "id": "d4d1539e-fb2e-4ff1-b016-994a3e23953d",
   "metadata": {},
   "outputs": [],
   "source": [
    "#showing the outliers"
   ]
  },
  {
   "cell_type": "code",
   "execution_count": 34,
   "id": "3ea565fc-61c5-47e2-8721-d0ea98bfe503",
   "metadata": {},
   "outputs": [
    {
     "data": {
      "text/html": [
       "<div>\n",
       "<style scoped>\n",
       "    .dataframe tbody tr th:only-of-type {\n",
       "        vertical-align: middle;\n",
       "    }\n",
       "\n",
       "    .dataframe tbody tr th {\n",
       "        vertical-align: top;\n",
       "    }\n",
       "\n",
       "    .dataframe thead th {\n",
       "        text-align: right;\n",
       "    }\n",
       "</style>\n",
       "<table border=\"1\" class=\"dataframe\">\n",
       "  <thead>\n",
       "    <tr style=\"text-align: right;\">\n",
       "      <th></th>\n",
       "      <th>math_score</th>\n",
       "      <th>reading_score</th>\n",
       "      <th>writing_score</th>\n",
       "      <th>placement_score</th>\n",
       "      <th>club_join_year</th>\n",
       "      <th>placement_offer_count</th>\n",
       "    </tr>\n",
       "  </thead>\n",
       "  <tbody>\n",
       "    <tr>\n",
       "      <th>1</th>\n",
       "      <td>66.0</td>\n",
       "      <td>78</td>\n",
       "      <td>78</td>\n",
       "      <td>40</td>\n",
       "      <td>2022</td>\n",
       "      <td>1</td>\n",
       "    </tr>\n",
       "    <tr>\n",
       "      <th>4</th>\n",
       "      <td>78.0</td>\n",
       "      <td>85</td>\n",
       "      <td>80</td>\n",
       "      <td>20</td>\n",
       "      <td>2018</td>\n",
       "      <td>3</td>\n",
       "    </tr>\n",
       "  </tbody>\n",
       "</table>\n",
       "</div>"
      ],
      "text/plain": [
       "   math_score  reading_score  writing_score  placement_score  club_join_year  \\\n",
       "1        66.0             78             78               40            2022   \n",
       "4        78.0             85             80               20            2018   \n",
       "\n",
       "   placement_offer_count  \n",
       "1                      1  \n",
       "4                      3  "
      ]
     },
     "execution_count": 34,
     "metadata": {},
     "output_type": "execute_result"
    }
   ],
   "source": [
    "ndf[ndf['placement_score'] < lower_bound]"
   ]
  },
  {
   "cell_type": "code",
   "execution_count": 35,
   "id": "126f3488-59dd-40fb-944f-8ac5d8b5f502",
   "metadata": {},
   "outputs": [
    {
     "data": {
      "text/html": [
       "<div>\n",
       "<style scoped>\n",
       "    .dataframe tbody tr th:only-of-type {\n",
       "        vertical-align: middle;\n",
       "    }\n",
       "\n",
       "    .dataframe tbody tr th {\n",
       "        vertical-align: top;\n",
       "    }\n",
       "\n",
       "    .dataframe thead th {\n",
       "        text-align: right;\n",
       "    }\n",
       "</style>\n",
       "<table border=\"1\" class=\"dataframe\">\n",
       "  <thead>\n",
       "    <tr style=\"text-align: right;\">\n",
       "      <th></th>\n",
       "      <th>math_score</th>\n",
       "      <th>reading_score</th>\n",
       "      <th>writing_score</th>\n",
       "      <th>placement_score</th>\n",
       "      <th>club_join_year</th>\n",
       "      <th>placement_offer_count</th>\n",
       "    </tr>\n",
       "  </thead>\n",
       "  <tbody>\n",
       "    <tr>\n",
       "      <th>21</th>\n",
       "      <td>76.0</td>\n",
       "      <td>62</td>\n",
       "      <td>78</td>\n",
       "      <td>220</td>\n",
       "      <td>2023</td>\n",
       "      <td>3</td>\n",
       "    </tr>\n",
       "    <tr>\n",
       "      <th>39</th>\n",
       "      <td>64.0</td>\n",
       "      <td>82</td>\n",
       "      <td>68</td>\n",
       "      <td>140</td>\n",
       "      <td>2021</td>\n",
       "      <td>3</td>\n",
       "    </tr>\n",
       "    <tr>\n",
       "      <th>46</th>\n",
       "      <td>79.0</td>\n",
       "      <td>68</td>\n",
       "      <td>68</td>\n",
       "      <td>170</td>\n",
       "      <td>2022</td>\n",
       "      <td>3</td>\n",
       "    </tr>\n",
       "  </tbody>\n",
       "</table>\n",
       "</div>"
      ],
      "text/plain": [
       "    math_score  reading_score  writing_score  placement_score  club_join_year  \\\n",
       "21        76.0             62             78              220            2023   \n",
       "39        64.0             82             68              140            2021   \n",
       "46        79.0             68             68              170            2022   \n",
       "\n",
       "    placement_offer_count  \n",
       "21                      3  \n",
       "39                      3  \n",
       "46                      3  "
      ]
     },
     "execution_count": 35,
     "metadata": {},
     "output_type": "execute_result"
    }
   ],
   "source": [
    "ndf[ndf['placement_score'] > upper_bound]"
   ]
  },
  {
   "cell_type": "code",
   "execution_count": 36,
   "id": "51c3deca-ca69-4037-8f80-8c883484db63",
   "metadata": {},
   "outputs": [
    {
     "data": {
      "text/plain": [
       "(47, 6)"
      ]
     },
     "execution_count": 36,
     "metadata": {},
     "output_type": "execute_result"
    }
   ],
   "source": [
    "ndf.shape"
   ]
  },
  {
   "cell_type": "code",
   "execution_count": 37,
   "id": "702119ba-f6ed-466e-96f3-9f23c2f43712",
   "metadata": {},
   "outputs": [],
   "source": [
    "ndf = ndf[ndf['placement_score'] > lower_bound]\n",
    "ndf = ndf[ndf['placement_score'] < upper_bound]"
   ]
  },
  {
   "cell_type": "code",
   "execution_count": 38,
   "id": "9c892845-8b73-44f6-94b6-b3a5c25d0737",
   "metadata": {},
   "outputs": [
    {
     "data": {
      "text/plain": [
       "(42, 6)"
      ]
     },
     "execution_count": 38,
     "metadata": {},
     "output_type": "execute_result"
    }
   ],
   "source": [
    "ndf.shape"
   ]
  },
  {
   "cell_type": "code",
   "execution_count": 39,
   "id": "2807f62b-0f65-4d51-a298-daac9e3e5e20",
   "metadata": {},
   "outputs": [
    {
     "data": {
      "text/plain": [
       "<Axes: ylabel='placement_score'>"
      ]
     },
     "execution_count": 39,
     "metadata": {},
     "output_type": "execute_result"
    },
    {
     "data": {
      "image/png": "[encoded data removed]",
      "text/plain": [
       "<Figure size 640x480 with 1 Axes>"
      ]
     },
     "metadata": {},
     "output_type": "display_data"
    }
   ],
   "source": [
    "sns.boxplot(ndf['placement_score'])"
   ]
  },
  {
   "cell_type": "code",
   "execution_count": 40,
   "id": "7353ab21-02de-4e2b-b2d5-a47058996bb4",
   "metadata": {},
   "outputs": [],
   "source": [
    "# Apply data transformations on at least one of the variables. The purpose of this\n",
    "# transformation should be one of the following reasons: to change the scale for better\n",
    "# understanding of the variable, to convert a non-linear relation into a linear one, or to\n",
    "# decrease the skewness and convert the distribution into a normal distribution. "
   ]
  },
  {
   "cell_type": "code",
   "execution_count": 41,
   "id": "e3bb274a-8ea8-4ab3-be39-772c410b93bc",
   "metadata": {},
   "outputs": [
    {
     "data": {
      "text/plain": [
       "0.06123337803033496"
      ]
     },
     "execution_count": 41,
     "metadata": {},
     "output_type": "execute_result"
    }
   ],
   "source": [
    "ndf['placement_score'].skew()"
   ]
  },
  {
   "cell_type": "code",
   "execution_count": 42,
   "id": "21b1084e-99ed-4c90-9e6c-327e44a6babb",
   "metadata": {},
   "outputs": [
    {
     "data": {
      "text/plain": [
       "0.02971629320164112"
      ]
     },
     "execution_count": 42,
     "metadata": {},
     "output_type": "execute_result"
    }
   ],
   "source": [
    "ndf['math_score'].skew()"
   ]
  },
  {
   "cell_type": "code",
   "execution_count": 43,
   "id": "f74a7977-c6b8-4ebb-b368-1ac2a72ea5b2",
   "metadata": {},
   "outputs": [
    {
     "data": {
      "text/plain": [
       "0.5378407957042785"
      ]
     },
     "execution_count": 43,
     "metadata": {},
     "output_type": "execute_result"
    }
   ],
   "source": [
    "ndf['reading_score'].skew()"
   ]
  },
  {
   "cell_type": "code",
   "execution_count": 44,
   "id": "a290ba23-d2df-407d-9e37-8b8089a900b2",
   "metadata": {},
   "outputs": [
    {
     "data": {
      "text/plain": [
       "-0.46536884849332333"
      ]
     },
     "execution_count": 44,
     "metadata": {},
     "output_type": "execute_result"
    }
   ],
   "source": [
    "ndf['writing_score'].skew()"
   ]
  },
  {
   "cell_type": "code",
   "execution_count": 45,
   "id": "696f894c-3ea0-44a7-be09-4c48f95eaec4",
   "metadata": {},
   "outputs": [],
   "source": [
    "#here all variables are Approximately symmetric"
   ]
  },
  {
   "cell_type": "code",
   "execution_count": 51,
   "id": "44301f8b-6c58-44b2-b99c-b7b633141173",
   "metadata": {},
   "outputs": [],
   "source": [
    "from sklearn.preprocessing import MinMaxScaler"
   ]
  },
  {
   "cell_type": "code",
   "execution_count": 52,
   "id": "8b5fa007-4657-4f73-b6bc-a491c7c715ed",
   "metadata": {},
   "outputs": [],
   "source": [
    "scaler = MinMaxScaler()"
   ]
  },
  {
   "cell_type": "code",
   "execution_count": 54,
   "id": "61a4c761-b591-4aba-9978-24d2f78e8715",
   "metadata": {},
   "outputs": [],
   "source": [
    "ndf['placement_score'] = scaler.fit_transform(ndf['placement_score'].values.reshape(-1, 1))"
   ]
  },
  {
   "cell_type": "code",
   "execution_count": 55,
   "id": "615ea2af-3683-4a34-bb7d-8ff361c37881",
   "metadata": {},
   "outputs": [
    {
     "data": {
      "text/html": [
       "<div>\n",
       "<style scoped>\n",
       "    .dataframe tbody tr th:only-of-type {\n",
       "        vertical-align: middle;\n",
       "    }\n",
       "\n",
       "    .dataframe tbody tr th {\n",
       "        vertical-align: top;\n",
       "    }\n",
       "\n",
       "    .dataframe thead th {\n",
       "        text-align: right;\n",
       "    }\n",
       "</style>\n",
       "<table border=\"1\" class=\"dataframe\">\n",
       "  <thead>\n",
       "    <tr style=\"text-align: right;\">\n",
       "      <th></th>\n",
       "      <th>math_score</th>\n",
       "      <th>reading_score</th>\n",
       "      <th>writing_score</th>\n",
       "      <th>placement_score</th>\n",
       "      <th>club_join_year</th>\n",
       "      <th>placement_offer_count</th>\n",
       "    </tr>\n",
       "  </thead>\n",
       "  <tbody>\n",
       "    <tr>\n",
       "      <th>22</th>\n",
       "      <td>71.0</td>\n",
       "      <td>77</td>\n",
       "      <td>68</td>\n",
       "      <td>0.033333</td>\n",
       "      <td>2018</td>\n",
       "      <td>1</td>\n",
       "    </tr>\n",
       "    <tr>\n",
       "      <th>29</th>\n",
       "      <td>62.0</td>\n",
       "      <td>85</td>\n",
       "      <td>90</td>\n",
       "      <td>0.733333</td>\n",
       "      <td>2022</td>\n",
       "      <td>3</td>\n",
       "    </tr>\n",
       "    <tr>\n",
       "      <th>48</th>\n",
       "      <td>87.0</td>\n",
       "      <td>61</td>\n",
       "      <td>84</td>\n",
       "      <td>0.233333</td>\n",
       "      <td>2022</td>\n",
       "      <td>2</td>\n",
       "    </tr>\n",
       "    <tr>\n",
       "      <th>6</th>\n",
       "      <td>77.0</td>\n",
       "      <td>77</td>\n",
       "      <td>78</td>\n",
       "      <td>0.066667</td>\n",
       "      <td>2023</td>\n",
       "      <td>1</td>\n",
       "    </tr>\n",
       "    <tr>\n",
       "      <th>20</th>\n",
       "      <td>73.0</td>\n",
       "      <td>83</td>\n",
       "      <td>89</td>\n",
       "      <td>0.333333</td>\n",
       "      <td>2019</td>\n",
       "      <td>2</td>\n",
       "    </tr>\n",
       "    <tr>\n",
       "      <th>19</th>\n",
       "      <td>87.0</td>\n",
       "      <td>62</td>\n",
       "      <td>81</td>\n",
       "      <td>0.333333</td>\n",
       "      <td>2020</td>\n",
       "      <td>2</td>\n",
       "    </tr>\n",
       "    <tr>\n",
       "      <th>42</th>\n",
       "      <td>72.0</td>\n",
       "      <td>74</td>\n",
       "      <td>78</td>\n",
       "      <td>0.500000</td>\n",
       "      <td>2022</td>\n",
       "      <td>3</td>\n",
       "    </tr>\n",
       "    <tr>\n",
       "      <th>11</th>\n",
       "      <td>76.0</td>\n",
       "      <td>73</td>\n",
       "      <td>81</td>\n",
       "      <td>0.300000</td>\n",
       "      <td>2020</td>\n",
       "      <td>2</td>\n",
       "    </tr>\n",
       "    <tr>\n",
       "      <th>49</th>\n",
       "      <td>65.0</td>\n",
       "      <td>70</td>\n",
       "      <td>80</td>\n",
       "      <td>0.433333</td>\n",
       "      <td>2020</td>\n",
       "      <td>2</td>\n",
       "    </tr>\n",
       "    <tr>\n",
       "      <th>23</th>\n",
       "      <td>84.0</td>\n",
       "      <td>73</td>\n",
       "      <td>78</td>\n",
       "      <td>0.566667</td>\n",
       "      <td>2022</td>\n",
       "      <td>3</td>\n",
       "    </tr>\n",
       "  </tbody>\n",
       "</table>\n",
       "</div>"
      ],
      "text/plain": [
       "    math_score  reading_score  writing_score  placement_score  club_join_year  \\\n",
       "22        71.0             77             68         0.033333            2018   \n",
       "29        62.0             85             90         0.733333            2022   \n",
       "48        87.0             61             84         0.233333            2022   \n",
       "6         77.0             77             78         0.066667            2023   \n",
       "20        73.0             83             89         0.333333            2019   \n",
       "19        87.0             62             81         0.333333            2020   \n",
       "42        72.0             74             78         0.500000            2022   \n",
       "11        76.0             73             81         0.300000            2020   \n",
       "49        65.0             70             80         0.433333            2020   \n",
       "23        84.0             73             78         0.566667            2022   \n",
       "\n",
       "    placement_offer_count  \n",
       "22                      1  \n",
       "29                      3  \n",
       "48                      2  \n",
       "6                       1  \n",
       "20                      2  \n",
       "19                      2  \n",
       "42                      3  \n",
       "11                      2  \n",
       "49                      2  \n",
       "23                      3  "
      ]
     },
     "execution_count": 55,
     "metadata": {},
     "output_type": "execute_result"
    }
   ],
   "source": [
    "ndf.sample(10)"
   ]
  },
  {
   "cell_type": "code",
   "execution_count": null,
   "id": "120286cc-889c-4ab8-a5c5-c7b0c04aec38",
   "metadata": {},
   "outputs": [],
   "source": [
    "#changed the scale of placement_score for better understanding of the variable"
   ]
  }
 ],
 "metadata": {
  "kernelspec": {
   "display_name": "Python 3 (ipykernel)",
   "language": "python",
   "name": "python3"
  },
  "language_info": {
   "codemirror_mode": {
    "name": "ipython",
    "version": 3
   },
   "file_extension": ".py",
   "mimetype": "text/x-python",
   "name": "python",
   "nbconvert_exporter": "python",
   "pygments_lexer": "ipython3",
   "version": "3.11.0"
  }
 },
 "nbformat": 4,
 "nbformat_minor": 5
}

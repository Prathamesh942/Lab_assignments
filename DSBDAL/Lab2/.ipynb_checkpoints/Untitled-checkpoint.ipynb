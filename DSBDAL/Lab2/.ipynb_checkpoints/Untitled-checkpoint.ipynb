{
 "cells": [
  {
   "cell_type": "code",
   "execution_count": 2,
   "id": "9b39f214-1dc3-46c4-82fd-c70cb3201cbb",
   "metadata": {},
   "outputs": [],
   "source": [
    "import pandas as pd"
   ]
  },
  {
   "cell_type": "code",
   "execution_count": 3,
   "id": "db58031d-5594-4f58-a43c-6f631c3d69e9",
   "metadata": {},
   "outputs": [],
   "source": [
    "df = pd.read_csv('placement_data.csv')"
   ]
  },
  {
   "cell_type": "code",
   "execution_count": 4,
   "id": "cf2d5f10-84e0-4c1a-9699-d495a22070aa",
   "metadata": {},
   "outputs": [],
   "source": [
    "ndf = df"
   ]
  },
  {
   "cell_type": "code",
   "execution_count": 5,
   "id": "4aaa2fc5-b8e4-4b7d-9001-771f698243fd",
   "metadata": {},
   "outputs": [
    {
     "data": {
      "text/html": [
       "<div>\n",
       "<style scoped>\n",
       "    .dataframe tbody tr th:only-of-type {\n",
       "        vertical-align: middle;\n",
       "    }\n",
       "\n",
       "    .dataframe tbody tr th {\n",
       "        vertical-align: top;\n",
       "    }\n",
       "\n",
       "    .dataframe thead th {\n",
       "        text-align: right;\n",
       "    }\n",
       "</style>\n",
       "<table border=\"1\" class=\"dataframe\">\n",
       "  <thead>\n",
       "    <tr style=\"text-align: right;\">\n",
       "      <th></th>\n",
       "      <th>math_score</th>\n",
       "      <th>reading_score</th>\n",
       "      <th>writing_score</th>\n",
       "      <th>placement_score</th>\n",
       "      <th>club_join_year</th>\n",
       "      <th>placement_offer_count</th>\n",
       "    </tr>\n",
       "  </thead>\n",
       "  <tbody>\n",
       "    <tr>\n",
       "      <th>0</th>\n",
       "      <td>79.0</td>\n",
       "      <td>NaN</td>\n",
       "      <td>81.0</td>\n",
       "      <td>75</td>\n",
       "      <td>2018</td>\n",
       "      <td>1</td>\n",
       "    </tr>\n",
       "    <tr>\n",
       "      <th>1</th>\n",
       "      <td>66.0</td>\n",
       "      <td>78.0</td>\n",
       "      <td>NaN</td>\n",
       "      <td>40</td>\n",
       "      <td>2022</td>\n",
       "      <td>1</td>\n",
       "    </tr>\n",
       "    <tr>\n",
       "      <th>2</th>\n",
       "      <td>67.0</td>\n",
       "      <td>NaN</td>\n",
       "      <td>NaN</td>\n",
       "      <td>77</td>\n",
       "      <td>2018</td>\n",
       "      <td>1</td>\n",
       "    </tr>\n",
       "    <tr>\n",
       "      <th>3</th>\n",
       "      <td>62.0</td>\n",
       "      <td>87.0</td>\n",
       "      <td>66.0</td>\n",
       "      <td>100</td>\n",
       "      <td>2021</td>\n",
       "      <td>3</td>\n",
       "    </tr>\n",
       "    <tr>\n",
       "      <th>4</th>\n",
       "      <td>78.0</td>\n",
       "      <td>85.0</td>\n",
       "      <td>80.0</td>\n",
       "      <td>90</td>\n",
       "      <td>2018</td>\n",
       "      <td>3</td>\n",
       "    </tr>\n",
       "  </tbody>\n",
       "</table>\n",
       "</div>"
      ],
      "text/plain": [
       "   math_score  reading_score  writing_score  placement_score  club_join_year  \\\n",
       "0        79.0            NaN           81.0               75            2018   \n",
       "1        66.0           78.0            NaN               40            2022   \n",
       "2        67.0            NaN            NaN               77            2018   \n",
       "3        62.0           87.0           66.0              100            2021   \n",
       "4        78.0           85.0           80.0               90            2018   \n",
       "\n",
       "   placement_offer_count  \n",
       "0                      1  \n",
       "1                      1  \n",
       "2                      1  \n",
       "3                      3  \n",
       "4                      3  "
      ]
     },
     "execution_count": 5,
     "metadata": {},
     "output_type": "execute_result"
    }
   ],
   "source": [
    "ndf.head()"
   ]
  },
  {
   "cell_type": "code",
   "execution_count": 11,
   "id": "feb980e3-bc27-48d0-826f-254825ffa071",
   "metadata": {},
   "outputs": [
    {
     "data": {
      "text/plain": [
       "(50, 6)"
      ]
     },
     "execution_count": 11,
     "metadata": {},
     "output_type": "execute_result"
    }
   ],
   "source": [
    "ndf.shape"
   ]
  },
  {
   "cell_type": "code",
   "execution_count": 12,
   "id": "eefdad47-3e2c-4428-b1d3-983c564dc94f",
   "metadata": {},
   "outputs": [
    {
     "data": {
      "text/plain": [
       "math_score                3\n",
       "reading_score            11\n",
       "writing_score            12\n",
       "placement_score           0\n",
       "club_join_year            0\n",
       "placement_offer_count     0\n",
       "dtype: int64"
      ]
     },
     "execution_count": 12,
     "metadata": {},
     "output_type": "execute_result"
    }
   ],
   "source": [
    "# Scan all variables for missing values and inconsistencies. If there are missing values and/or\n",
    "# inconsistencies, use any of the suitable techniques to deal with them.\n",
    "ndf.isnull().sum()"
   ]
  },
  {
   "cell_type": "code",
   "execution_count": 13,
   "id": "b887526d-d255-46c7-8f41-475864556ed1",
   "metadata": {},
   "outputs": [],
   "source": [
    "ndf = ndf.dropna(subset=['math_score'])"
   ]
  },
  {
   "cell_type": "code",
   "execution_count": 14,
   "id": "7e650e2a-2eef-4799-83cf-4e3633413035",
   "metadata": {},
   "outputs": [
    {
     "data": {
      "text/plain": [
       "math_score                0\n",
       "reading_score            10\n",
       "writing_score            12\n",
       "placement_score           0\n",
       "club_join_year            0\n",
       "placement_offer_count     0\n",
       "dtype: int64"
      ]
     },
     "execution_count": 14,
     "metadata": {},
     "output_type": "execute_result"
    }
   ],
   "source": [
    "#dropping rows for which math_score is null\n",
    "ndf.isnull().sum()"
   ]
  },
  {
   "cell_type": "code",
   "execution_count": 21,
   "id": "ad58cb91-2cf0-42ba-a934-3edd85622e13",
   "metadata": {},
   "outputs": [
    {
     "name": "stderr",
     "output_type": "stream",
     "text": [
      "C:\\Users\\madhu\\AppData\\Local\\Temp\\ipykernel_33220\\56541578.py:5: SettingWithCopyWarning: \n",
      "A value is trying to be set on a copy of a slice from a DataFrame\n",
      "\n",
      "See the caveats in the documentation: https://pandas.pydata.org/pandas-docs/stable/user_guide/indexing.html#returning-a-view-versus-a-copy\n",
      "  ndf['reading_score'].fillna(mean_reading, inplace=True)\n",
      "C:\\Users\\madhu\\AppData\\Local\\Temp\\ipykernel_33220\\56541578.py:6: SettingWithCopyWarning: \n",
      "A value is trying to be set on a copy of a slice from a DataFrame\n",
      "\n",
      "See the caveats in the documentation: https://pandas.pydata.org/pandas-docs/stable/user_guide/indexing.html#returning-a-view-versus-a-copy\n",
      "  ndf['writing_score'].fillna(mean_writing, inplace=True)\n"
     ]
    }
   ],
   "source": [
    "#replacing reading_score and writing_score with mean value\n",
    "mean_reading = ndf['reading_score'].mean()\n",
    "mean_writing = ndf['writing_score'].mean()\n",
    "\n",
    "ndf['reading_score'].fillna(mean_reading, inplace=True)\n",
    "ndf['writing_score'].fillna(mean_writing, inplace=True) "
   ]
  },
  {
   "cell_type": "code",
   "execution_count": 22,
   "id": "5e6545f3-3170-4727-800b-228a35f6e128",
   "metadata": {},
   "outputs": [
    {
     "data": {
      "text/html": [
       "<div>\n",
       "<style scoped>\n",
       "    .dataframe tbody tr th:only-of-type {\n",
       "        vertical-align: middle;\n",
       "    }\n",
       "\n",
       "    .dataframe tbody tr th {\n",
       "        vertical-align: top;\n",
       "    }\n",
       "\n",
       "    .dataframe thead th {\n",
       "        text-align: right;\n",
       "    }\n",
       "</style>\n",
       "<table border=\"1\" class=\"dataframe\">\n",
       "  <thead>\n",
       "    <tr style=\"text-align: right;\">\n",
       "      <th></th>\n",
       "      <th>math_score</th>\n",
       "      <th>reading_score</th>\n",
       "      <th>writing_score</th>\n",
       "      <th>placement_score</th>\n",
       "      <th>club_join_year</th>\n",
       "      <th>placement_offer_count</th>\n",
       "    </tr>\n",
       "  </thead>\n",
       "  <tbody>\n",
       "    <tr>\n",
       "      <th>0</th>\n",
       "      <td>79.0</td>\n",
       "      <td>73.972973</td>\n",
       "      <td>81.000000</td>\n",
       "      <td>75</td>\n",
       "      <td>2018</td>\n",
       "      <td>1</td>\n",
       "    </tr>\n",
       "    <tr>\n",
       "      <th>1</th>\n",
       "      <td>66.0</td>\n",
       "      <td>78.000000</td>\n",
       "      <td>78.257143</td>\n",
       "      <td>40</td>\n",
       "      <td>2022</td>\n",
       "      <td>1</td>\n",
       "    </tr>\n",
       "    <tr>\n",
       "      <th>2</th>\n",
       "      <td>67.0</td>\n",
       "      <td>73.972973</td>\n",
       "      <td>78.257143</td>\n",
       "      <td>77</td>\n",
       "      <td>2018</td>\n",
       "      <td>1</td>\n",
       "    </tr>\n",
       "    <tr>\n",
       "      <th>3</th>\n",
       "      <td>62.0</td>\n",
       "      <td>87.000000</td>\n",
       "      <td>66.000000</td>\n",
       "      <td>100</td>\n",
       "      <td>2021</td>\n",
       "      <td>3</td>\n",
       "    </tr>\n",
       "    <tr>\n",
       "      <th>4</th>\n",
       "      <td>78.0</td>\n",
       "      <td>85.000000</td>\n",
       "      <td>80.000000</td>\n",
       "      <td>90</td>\n",
       "      <td>2018</td>\n",
       "      <td>3</td>\n",
       "    </tr>\n",
       "  </tbody>\n",
       "</table>\n",
       "</div>"
      ],
      "text/plain": [
       "   math_score  reading_score  writing_score  placement_score  club_join_year  \\\n",
       "0        79.0      73.972973      81.000000               75            2018   \n",
       "1        66.0      78.000000      78.257143               40            2022   \n",
       "2        67.0      73.972973      78.257143               77            2018   \n",
       "3        62.0      87.000000      66.000000              100            2021   \n",
       "4        78.0      85.000000      80.000000               90            2018   \n",
       "\n",
       "   placement_offer_count  \n",
       "0                      1  \n",
       "1                      1  \n",
       "2                      1  \n",
       "3                      3  \n",
       "4                      3  "
      ]
     },
     "execution_count": 22,
     "metadata": {},
     "output_type": "execute_result"
    }
   ],
   "source": [
    "ndf.head()"
   ]
  },
  {
   "cell_type": "code",
   "execution_count": 27,
   "id": "dc56ba6a-b535-4ae7-a497-a90a51a8393f",
   "metadata": {},
   "outputs": [],
   "source": [
    "ndf['reading_score'] = ndf['reading_score'].astype(int)\n",
    "ndf['writing_score'] = ndf['writing_score'].astype(int)"
   ]
  },
  {
   "cell_type": "code",
   "execution_count": 28,
   "id": "d29f40cd-91f6-41dd-ab82-ae69babcf342",
   "metadata": {},
   "outputs": [
    {
     "data": {
      "text/html": [
       "<div>\n",
       "<style scoped>\n",
       "    .dataframe tbody tr th:only-of-type {\n",
       "        vertical-align: middle;\n",
       "    }\n",
       "\n",
       "    .dataframe tbody tr th {\n",
       "        vertical-align: top;\n",
       "    }\n",
       "\n",
       "    .dataframe thead th {\n",
       "        text-align: right;\n",
       "    }\n",
       "</style>\n",
       "<table border=\"1\" class=\"dataframe\">\n",
       "  <thead>\n",
       "    <tr style=\"text-align: right;\">\n",
       "      <th></th>\n",
       "      <th>math_score</th>\n",
       "      <th>reading_score</th>\n",
       "      <th>writing_score</th>\n",
       "      <th>placement_score</th>\n",
       "      <th>club_join_year</th>\n",
       "      <th>placement_offer_count</th>\n",
       "    </tr>\n",
       "  </thead>\n",
       "  <tbody>\n",
       "    <tr>\n",
       "      <th>0</th>\n",
       "      <td>79.0</td>\n",
       "      <td>73</td>\n",
       "      <td>81</td>\n",
       "      <td>75</td>\n",
       "      <td>2018</td>\n",
       "      <td>1</td>\n",
       "    </tr>\n",
       "    <tr>\n",
       "      <th>1</th>\n",
       "      <td>66.0</td>\n",
       "      <td>78</td>\n",
       "      <td>78</td>\n",
       "      <td>40</td>\n",
       "      <td>2022</td>\n",
       "      <td>1</td>\n",
       "    </tr>\n",
       "    <tr>\n",
       "      <th>2</th>\n",
       "      <td>67.0</td>\n",
       "      <td>73</td>\n",
       "      <td>78</td>\n",
       "      <td>77</td>\n",
       "      <td>2018</td>\n",
       "      <td>1</td>\n",
       "    </tr>\n",
       "    <tr>\n",
       "      <th>3</th>\n",
       "      <td>62.0</td>\n",
       "      <td>87</td>\n",
       "      <td>66</td>\n",
       "      <td>100</td>\n",
       "      <td>2021</td>\n",
       "      <td>3</td>\n",
       "    </tr>\n",
       "    <tr>\n",
       "      <th>4</th>\n",
       "      <td>78.0</td>\n",
       "      <td>85</td>\n",
       "      <td>80</td>\n",
       "      <td>90</td>\n",
       "      <td>2018</td>\n",
       "      <td>3</td>\n",
       "    </tr>\n",
       "  </tbody>\n",
       "</table>\n",
       "</div>"
      ],
      "text/plain": [
       "   math_score  reading_score  writing_score  placement_score  club_join_year  \\\n",
       "0        79.0             73             81               75            2018   \n",
       "1        66.0             78             78               40            2022   \n",
       "2        67.0             73             78               77            2018   \n",
       "3        62.0             87             66              100            2021   \n",
       "4        78.0             85             80               90            2018   \n",
       "\n",
       "   placement_offer_count  \n",
       "0                      1  \n",
       "1                      1  \n",
       "2                      1  \n",
       "3                      3  \n",
       "4                      3  "
      ]
     },
     "execution_count": 28,
     "metadata": {},
     "output_type": "execute_result"
    }
   ],
   "source": [
    "ndf.head()"
   ]
  },
  {
   "cell_type": "code",
   "execution_count": 29,
   "id": "51deed19-deb5-4211-bf59-3f3b641cc316",
   "metadata": {},
   "outputs": [],
   "source": [
    "#Scan all numeric variables for outliers."
   ]
  },
  {
   "cell_type": "code",
   "execution_count": 39,
   "id": "ce03415a-d7cd-4047-baba-1bb41352683b",
   "metadata": {},
   "outputs": [
    {
     "data": {
      "image/png": "[encoded data removed]",
      "text/plain": [
       "<Figure size 640x480 with 1 Axes>"
      ]
     },
     "metadata": {},
     "output_type": "display_data"
    }
   ],
   "source": [
    "# Check for outliers using box plots\n",
    "import seaborn as sns\n",
    "\n",
    "numeric_cols = ndf.select_dtypes(include=np.number).columns\n",
    "for col in numeric_cols:\n",
    "    sns.boxplot(x=df[col])"
   ]
  },
  {
   "cell_type": "code",
   "execution_count": null,
   "id": "4aa1a54b-319d-4d4e-81e2-3fe6fc67e4ca",
   "metadata": {},
   "outputs": [],
   "source": []
  }
 ],
 "metadata": {
  "kernelspec": {
   "display_name": "Python 3 (ipykernel)",
   "language": "python",
   "name": "python3"
  },
  "language_info": {
   "codemirror_mode": {
    "name": "ipython",
    "version": 3
   },
   "file_extension": ".py",
   "mimetype": "text/x-python",
   "name": "python",
   "nbconvert_exporter": "python",
   "pygments_lexer": "ipython3",
   "version": "3.11.0"
  }
 },
 "nbformat": 4,
 "nbformat_minor": 5
}

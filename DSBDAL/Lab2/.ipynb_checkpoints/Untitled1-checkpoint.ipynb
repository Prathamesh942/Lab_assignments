{
 "cells": [
  {
   "cell_type": "code",
   "execution_count": 1,
   "id": "1619bf37-59ca-4660-9820-c266b9303188",
   "metadata": {},
   "outputs": [],
   "source": [
    "import pandas as pd\n",
    "import numpy as np\n",
    "import matplotlib.pyplot as plt\n",
    "import seaborn as sns"
   ]
  },
  {
   "cell_type": "code",
   "execution_count": 2,
   "id": "7237b0d4-7c2d-4ce0-8f01-c7911ee799c1",
   "metadata": {},
   "outputs": [],
   "source": [
    "df = pd.read_csv('placement_data.csv')"
   ]
  },
  {
   "cell_type": "code",
   "execution_count": 3,
   "id": "4b4e7c11-a778-4128-af06-fbe313df3179",
   "metadata": {},
   "outputs": [],
   "source": [
    "ndf = df"
   ]
  },
  {
   "cell_type": "code",
   "execution_count": 4,
   "id": "8c43fd73-c142-4581-a743-a937a597328b",
   "metadata": {},
   "outputs": [
    {
     "data": {
      "text/html": [
       "<div>\n",
       "<style scoped>\n",
       "    .dataframe tbody tr th:only-of-type {\n",
       "        vertical-align: middle;\n",
       "    }\n",
       "\n",
       "    .dataframe tbody tr th {\n",
       "        vertical-align: top;\n",
       "    }\n",
       "\n",
       "    .dataframe thead th {\n",
       "        text-align: right;\n",
       "    }\n",
       "</style>\n",
       "<table border=\"1\" class=\"dataframe\">\n",
       "  <thead>\n",
       "    <tr style=\"text-align: right;\">\n",
       "      <th></th>\n",
       "      <th>math_score</th>\n",
       "      <th>reading_score</th>\n",
       "      <th>writing_score</th>\n",
       "      <th>placement_score</th>\n",
       "      <th>club_join_year</th>\n",
       "      <th>placement_offer_count</th>\n",
       "    </tr>\n",
       "  </thead>\n",
       "  <tbody>\n",
       "    <tr>\n",
       "      <th>0</th>\n",
       "      <td>79.0</td>\n",
       "      <td>NaN</td>\n",
       "      <td>81.0</td>\n",
       "      <td>75</td>\n",
       "      <td>2018</td>\n",
       "      <td>1</td>\n",
       "    </tr>\n",
       "    <tr>\n",
       "      <th>1</th>\n",
       "      <td>66.0</td>\n",
       "      <td>78.0</td>\n",
       "      <td>NaN</td>\n",
       "      <td>40</td>\n",
       "      <td>2022</td>\n",
       "      <td>1</td>\n",
       "    </tr>\n",
       "    <tr>\n",
       "      <th>2</th>\n",
       "      <td>67.0</td>\n",
       "      <td>NaN</td>\n",
       "      <td>NaN</td>\n",
       "      <td>77</td>\n",
       "      <td>2018</td>\n",
       "      <td>1</td>\n",
       "    </tr>\n",
       "    <tr>\n",
       "      <th>3</th>\n",
       "      <td>62.0</td>\n",
       "      <td>87.0</td>\n",
       "      <td>66.0</td>\n",
       "      <td>100</td>\n",
       "      <td>2021</td>\n",
       "      <td>3</td>\n",
       "    </tr>\n",
       "    <tr>\n",
       "      <th>4</th>\n",
       "      <td>78.0</td>\n",
       "      <td>85.0</td>\n",
       "      <td>80.0</td>\n",
       "      <td>20</td>\n",
       "      <td>2018</td>\n",
       "      <td>3</td>\n",
       "    </tr>\n",
       "  </tbody>\n",
       "</table>\n",
       "</div>"
      ],
      "text/plain": [
       "   math_score  reading_score  writing_score  placement_score  club_join_year  \\\n",
       "0        79.0            NaN           81.0               75            2018   \n",
       "1        66.0           78.0            NaN               40            2022   \n",
       "2        67.0            NaN            NaN               77            2018   \n",
       "3        62.0           87.0           66.0              100            2021   \n",
       "4        78.0           85.0           80.0               20            2018   \n",
       "\n",
       "   placement_offer_count  \n",
       "0                      1  \n",
       "1                      1  \n",
       "2                      1  \n",
       "3                      3  \n",
       "4                      3  "
      ]
     },
     "execution_count": 4,
     "metadata": {},
     "output_type": "execute_result"
    }
   ],
   "source": [
    "ndf.head()"
   ]
  },
  {
   "cell_type": "code",
   "execution_count": 5,
   "id": "44132314-97ee-4ffc-bf2f-00b39809abce",
   "metadata": {},
   "outputs": [
    {
     "data": {
      "text/plain": [
       "(50, 6)"
      ]
     },
     "execution_count": 5,
     "metadata": {},
     "output_type": "execute_result"
    }
   ],
   "source": [
    "ndf.shape"
   ]
  },
  {
   "cell_type": "code",
   "execution_count": 6,
   "id": "a4ec08c2-b73d-40b0-a0ae-1d954c154b90",
   "metadata": {},
   "outputs": [],
   "source": [
    "# PART I - \n",
    "# Scan all variables for missing values and inconsistencies. If there are missing values and/or\n",
    "# inconsistencies, use any of the suitable techniques to deal with them."
   ]
  },
  {
   "cell_type": "code",
   "execution_count": 7,
   "id": "109f52be-081f-42e7-acc6-e964f77514b3",
   "metadata": {},
   "outputs": [
    {
     "data": {
      "text/plain": [
       "math_score                3\n",
       "reading_score            11\n",
       "writing_score            12\n",
       "placement_score           0\n",
       "club_join_year            0\n",
       "placement_offer_count     0\n",
       "dtype: int64"
      ]
     },
     "execution_count": 7,
     "metadata": {},
     "output_type": "execute_result"
    }
   ],
   "source": [
    "ndf.isnull().sum()"
   ]
  },
  {
   "cell_type": "code",
   "execution_count": 8,
   "id": "f0d49777-30e6-4c73-a384-b0b255366cae",
   "metadata": {},
   "outputs": [],
   "source": [
    "#using drop method to to drop rows with math_score = null\n",
    "ndf = ndf.dropna(subset=['math_score'])"
   ]
  },
  {
   "cell_type": "code",
   "execution_count": 9,
   "id": "e2110b33-7751-47cb-a1b9-3c2787dd0212",
   "metadata": {},
   "outputs": [
    {
     "data": {
      "text/plain": [
       "math_score                0\n",
       "reading_score            10\n",
       "writing_score            12\n",
       "placement_score           0\n",
       "club_join_year            0\n",
       "placement_offer_count     0\n",
       "dtype: int64"
      ]
     },
     "execution_count": 9,
     "metadata": {},
     "output_type": "execute_result"
    }
   ],
   "source": [
    "ndf.isnull().sum()"
   ]
  },
  {
   "cell_type": "code",
   "execution_count": 10,
   "id": "70005107-8199-43f8-99ed-3014dbeba999",
   "metadata": {},
   "outputs": [],
   "source": [
    "import warnings\n",
    "warnings.filterwarnings('ignore')\n"
   ]
  },
  {
   "cell_type": "code",
   "execution_count": 11,
   "id": "a0c9290a-52da-4b7e-af7f-9526d4120131",
   "metadata": {},
   "outputs": [],
   "source": [
    "#replacing reading_score and writing_score with mean value\n",
    "mean_reading = ndf['reading_score'].mean()\n",
    "mean_writing = ndf['writing_score'].mean()\n",
    "\n",
    "ndf['reading_score'].fillna(mean_reading, inplace=True)\n",
    "ndf['writing_score'].fillna(mean_writing, inplace=True) "
   ]
  },
  {
   "cell_type": "code",
   "execution_count": 12,
   "id": "b40618a5-8051-4355-b789-8af6944cc76a",
   "metadata": {},
   "outputs": [
    {
     "data": {
      "text/plain": [
       "math_score               0\n",
       "reading_score            0\n",
       "writing_score            0\n",
       "placement_score          0\n",
       "club_join_year           0\n",
       "placement_offer_count    0\n",
       "dtype: int64"
      ]
     },
     "execution_count": 12,
     "metadata": {},
     "output_type": "execute_result"
    }
   ],
   "source": [
    "ndf.isnull().sum()"
   ]
  },
  {
   "cell_type": "code",
   "execution_count": 13,
   "id": "e3999a8b-caeb-4f2d-af54-881e7e25df13",
   "metadata": {},
   "outputs": [
    {
     "name": "stdout",
     "output_type": "stream",
     "text": [
      "<class 'pandas.core.frame.DataFrame'>\n",
      "Index: 47 entries, 0 to 49\n",
      "Data columns (total 6 columns):\n",
      " #   Column                 Non-Null Count  Dtype  \n",
      "---  ------                 --------------  -----  \n",
      " 0   math_score             47 non-null     float64\n",
      " 1   reading_score          47 non-null     float64\n",
      " 2   writing_score          47 non-null     float64\n",
      " 3   placement_score        47 non-null     int64  \n",
      " 4   club_join_year         47 non-null     int64  \n",
      " 5   placement_offer_count  47 non-null     int64  \n",
      "dtypes: float64(3), int64(3)\n",
      "memory usage: 2.6 KB\n"
     ]
    }
   ],
   "source": [
    "ndf.info()"
   ]
  },
  {
   "cell_type": "code",
   "execution_count": 14,
   "id": "e549e58c-8662-4040-b272-2f8f548619e2",
   "metadata": {},
   "outputs": [
    {
     "data": {
      "text/html": [
       "<div>\n",
       "<style scoped>\n",
       "    .dataframe tbody tr th:only-of-type {\n",
       "        vertical-align: middle;\n",
       "    }\n",
       "\n",
       "    .dataframe tbody tr th {\n",
       "        vertical-align: top;\n",
       "    }\n",
       "\n",
       "    .dataframe thead th {\n",
       "        text-align: right;\n",
       "    }\n",
       "</style>\n",
       "<table border=\"1\" class=\"dataframe\">\n",
       "  <thead>\n",
       "    <tr style=\"text-align: right;\">\n",
       "      <th></th>\n",
       "      <th>math_score</th>\n",
       "      <th>reading_score</th>\n",
       "      <th>writing_score</th>\n",
       "      <th>placement_score</th>\n",
       "      <th>club_join_year</th>\n",
       "      <th>placement_offer_count</th>\n",
       "    </tr>\n",
       "  </thead>\n",
       "  <tbody>\n",
       "    <tr>\n",
       "      <th>0</th>\n",
       "      <td>79.0</td>\n",
       "      <td>73.972973</td>\n",
       "      <td>81.000000</td>\n",
       "      <td>75</td>\n",
       "      <td>2018</td>\n",
       "      <td>1</td>\n",
       "    </tr>\n",
       "    <tr>\n",
       "      <th>1</th>\n",
       "      <td>66.0</td>\n",
       "      <td>78.000000</td>\n",
       "      <td>78.257143</td>\n",
       "      <td>40</td>\n",
       "      <td>2022</td>\n",
       "      <td>1</td>\n",
       "    </tr>\n",
       "    <tr>\n",
       "      <th>2</th>\n",
       "      <td>67.0</td>\n",
       "      <td>73.972973</td>\n",
       "      <td>78.257143</td>\n",
       "      <td>77</td>\n",
       "      <td>2018</td>\n",
       "      <td>1</td>\n",
       "    </tr>\n",
       "    <tr>\n",
       "      <th>3</th>\n",
       "      <td>62.0</td>\n",
       "      <td>87.000000</td>\n",
       "      <td>66.000000</td>\n",
       "      <td>100</td>\n",
       "      <td>2021</td>\n",
       "      <td>3</td>\n",
       "    </tr>\n",
       "    <tr>\n",
       "      <th>4</th>\n",
       "      <td>78.0</td>\n",
       "      <td>85.000000</td>\n",
       "      <td>80.000000</td>\n",
       "      <td>20</td>\n",
       "      <td>2018</td>\n",
       "      <td>3</td>\n",
       "    </tr>\n",
       "  </tbody>\n",
       "</table>\n",
       "</div>"
      ],
      "text/plain": [
       "   math_score  reading_score  writing_score  placement_score  club_join_year  \\\n",
       "0        79.0      73.972973      81.000000               75            2018   \n",
       "1        66.0      78.000000      78.257143               40            2022   \n",
       "2        67.0      73.972973      78.257143               77            2018   \n",
       "3        62.0      87.000000      66.000000              100            2021   \n",
       "4        78.0      85.000000      80.000000               20            2018   \n",
       "\n",
       "   placement_offer_count  \n",
       "0                      1  \n",
       "1                      1  \n",
       "2                      1  \n",
       "3                      3  \n",
       "4                      3  "
      ]
     },
     "execution_count": 14,
     "metadata": {},
     "output_type": "execute_result"
    }
   ],
   "source": [
    "ndf.head()"
   ]
  },
  {
   "cell_type": "code",
   "execution_count": 15,
   "id": "cfe6a9bc-b8a2-434f-a1ee-e4c3a7c6e9d4",
   "metadata": {},
   "outputs": [],
   "source": [
    "ndf['reading_score'] = ndf['reading_score'].astype(int)\n",
    "ndf['writing_score'] = ndf['writing_score'].astype(int)"
   ]
  },
  {
   "cell_type": "code",
   "execution_count": 16,
   "id": "ccf36634-785f-4402-a71c-557fffe3965c",
   "metadata": {},
   "outputs": [
    {
     "data": {
      "text/html": [
       "<div>\n",
       "<style scoped>\n",
       "    .dataframe tbody tr th:only-of-type {\n",
       "        vertical-align: middle;\n",
       "    }\n",
       "\n",
       "    .dataframe tbody tr th {\n",
       "        vertical-align: top;\n",
       "    }\n",
       "\n",
       "    .dataframe thead th {\n",
       "        text-align: right;\n",
       "    }\n",
       "</style>\n",
       "<table border=\"1\" class=\"dataframe\">\n",
       "  <thead>\n",
       "    <tr style=\"text-align: right;\">\n",
       "      <th></th>\n",
       "      <th>math_score</th>\n",
       "      <th>reading_score</th>\n",
       "      <th>writing_score</th>\n",
       "      <th>placement_score</th>\n",
       "      <th>club_join_year</th>\n",
       "      <th>placement_offer_count</th>\n",
       "    </tr>\n",
       "  </thead>\n",
       "  <tbody>\n",
       "    <tr>\n",
       "      <th>0</th>\n",
       "      <td>79.0</td>\n",
       "      <td>73</td>\n",
       "      <td>81</td>\n",
       "      <td>75</td>\n",
       "      <td>2018</td>\n",
       "      <td>1</td>\n",
       "    </tr>\n",
       "    <tr>\n",
       "      <th>1</th>\n",
       "      <td>66.0</td>\n",
       "      <td>78</td>\n",
       "      <td>78</td>\n",
       "      <td>40</td>\n",
       "      <td>2022</td>\n",
       "      <td>1</td>\n",
       "    </tr>\n",
       "    <tr>\n",
       "      <th>2</th>\n",
       "      <td>67.0</td>\n",
       "      <td>73</td>\n",
       "      <td>78</td>\n",
       "      <td>77</td>\n",
       "      <td>2018</td>\n",
       "      <td>1</td>\n",
       "    </tr>\n",
       "    <tr>\n",
       "      <th>3</th>\n",
       "      <td>62.0</td>\n",
       "      <td>87</td>\n",
       "      <td>66</td>\n",
       "      <td>100</td>\n",
       "      <td>2021</td>\n",
       "      <td>3</td>\n",
       "    </tr>\n",
       "    <tr>\n",
       "      <th>4</th>\n",
       "      <td>78.0</td>\n",
       "      <td>85</td>\n",
       "      <td>80</td>\n",
       "      <td>20</td>\n",
       "      <td>2018</td>\n",
       "      <td>3</td>\n",
       "    </tr>\n",
       "  </tbody>\n",
       "</table>\n",
       "</div>"
      ],
      "text/plain": [
       "   math_score  reading_score  writing_score  placement_score  club_join_year  \\\n",
       "0        79.0             73             81               75            2018   \n",
       "1        66.0             78             78               40            2022   \n",
       "2        67.0             73             78               77            2018   \n",
       "3        62.0             87             66              100            2021   \n",
       "4        78.0             85             80               20            2018   \n",
       "\n",
       "   placement_offer_count  \n",
       "0                      1  \n",
       "1                      1  \n",
       "2                      1  \n",
       "3                      3  \n",
       "4                      3  "
      ]
     },
     "execution_count": 16,
     "metadata": {},
     "output_type": "execute_result"
    }
   ],
   "source": [
    "ndf.head()"
   ]
  },
  {
   "cell_type": "code",
   "execution_count": 17,
   "id": "46e72692-0288-45e1-a2dd-1bbc37519215",
   "metadata": {},
   "outputs": [],
   "source": [
    "#now data no more contains missing values "
   ]
  },
  {
   "cell_type": "code",
   "execution_count": 18,
   "id": "e89f9d75-28a1-4eae-bbcf-846c66ec69cc",
   "metadata": {},
   "outputs": [],
   "source": [
    "#PART II -\n",
    "#Scan all numeric variables for outliers. If there are outliers, use any of the suitable\n",
    "#techniques to deal with them."
   ]
  },
  {
   "cell_type": "code",
   "execution_count": 19,
   "id": "c32bb3f2-78e2-49e6-99b9-49ad72f6228f",
   "metadata": {},
   "outputs": [
    {
     "data": {
      "text/plain": [
       "<Axes: xlabel='placement_score', ylabel='Density'>"
      ]
     },
     "execution_count": 19,
     "metadata": {},
     "output_type": "execute_result"
    },
    {
     "data": {
      "image/png": "[encoded data removed]",
      "text/plain": [
       "<Figure size 1600x500 with 1 Axes>"
      ]
     },
     "metadata": {},
     "output_type": "display_data"
    }
   ],
   "source": [
    "#checking if Z-SCORE method is applicable\n",
    "plt.figure(figsize=(16,5))\n",
    "plt.subplot(1,1,1)\n",
    "sns.distplot(ndf['placement_score'])"
   ]
  },
  {
   "cell_type": "code",
   "execution_count": 20,
   "id": "9c943049-94dd-4739-b1b7-1a746af24e52",
   "metadata": {},
   "outputs": [
    {
     "name": "stdout",
     "output_type": "stream",
     "text": [
      "Mean -  91.38297872340425\n",
      "Standard deviation -  27.97091128102268\n",
      "Min -  20\n",
      "Max -  220\n"
     ]
    }
   ],
   "source": [
    "print(\"Mean - \",ndf['placement_score'].mean())\n",
    "print(\"Standard deviation - \",ndf['placement_score'].std())\n",
    "print(\"Min - \",ndf['placement_score'].min())\n",
    "print(\"Max - \",ndf['placement_score'].max())"
   ]
  },
  {
   "cell_type": "code",
   "execution_count": 21,
   "id": "143e7cc7-cc34-4926-b1e3-af9ad69a910b",
   "metadata": {},
   "outputs": [
    {
     "name": "stdout",
     "output_type": "stream",
     "text": [
      "Highest allowed 175.29571256647228\n",
      "Lowest allowed 7.47024488033621\n"
     ]
    }
   ],
   "source": [
    "print(\"Highest allowed\",ndf['placement_score'].mean() + 3*ndf['placement_score'].std())\n",
    "print(\"Lowest allowed\",ndf['placement_score'].mean() - 3*ndf['placement_score'].std())"
   ]
  },
  {
   "cell_type": "code",
   "execution_count": 23,
   "id": "aa8fd1f6-8fc1-4657-aec7-71faec6000f5",
   "metadata": {},
   "outputs": [
    {
     "data": {
      "text/html": [
       "<div>\n",
       "<style scoped>\n",
       "    .dataframe tbody tr th:only-of-type {\n",
       "        vertical-align: middle;\n",
       "    }\n",
       "\n",
       "    .dataframe tbody tr th {\n",
       "        vertical-align: top;\n",
       "    }\n",
       "\n",
       "    .dataframe thead th {\n",
       "        text-align: right;\n",
       "    }\n",
       "</style>\n",
       "<table border=\"1\" class=\"dataframe\">\n",
       "  <thead>\n",
       "    <tr style=\"text-align: right;\">\n",
       "      <th></th>\n",
       "      <th>math_score</th>\n",
       "      <th>reading_score</th>\n",
       "      <th>writing_score</th>\n",
       "      <th>placement_score</th>\n",
       "      <th>club_join_year</th>\n",
       "      <th>placement_offer_count</th>\n",
       "    </tr>\n",
       "  </thead>\n",
       "  <tbody>\n",
       "    <tr>\n",
       "      <th>21</th>\n",
       "      <td>76.0</td>\n",
       "      <td>62</td>\n",
       "      <td>78</td>\n",
       "      <td>220</td>\n",
       "      <td>2023</td>\n",
       "      <td>3</td>\n",
       "    </tr>\n",
       "  </tbody>\n",
       "</table>\n",
       "</div>"
      ],
      "text/plain": [
       "    math_score  reading_score  writing_score  placement_score  club_join_year  \\\n",
       "21        76.0             62             78              220            2023   \n",
       "\n",
       "    placement_offer_count  \n",
       "21                      3  "
      ]
     },
     "execution_count": 23,
     "metadata": {},
     "output_type": "execute_result"
    }
   ],
   "source": [
    "ndf[(ndf['placement_score']>175)| (ndf['placement_score'] < 7)]"
   ]
  },
  {
   "cell_type": "code",
   "execution_count": 24,
   "id": "28802741-99c2-4957-b0be-0117d7012cb4",
   "metadata": {},
   "outputs": [],
   "source": [
    "#here since data is not normally distributed this method does not detect outliers properly\n",
    "#so another method is used known as IQR method"
   ]
  },
  {
   "cell_type": "code",
   "execution_count": 25,
   "id": "f8f84f08-d07a-4955-8a2b-62cb2b02be2e",
   "metadata": {},
   "outputs": [
    {
     "data": {
      "text/plain": [
       "2.285636769153689"
      ]
     },
     "execution_count": 25,
     "metadata": {},
     "output_type": "execute_result"
    }
   ],
   "source": [
    "ndf['placement_score'].skew()"
   ]
  },
  {
   "cell_type": "code",
   "execution_count": 26,
   "id": "6c54ebe7-ddee-403f-8341-d1c6a9f83b26",
   "metadata": {},
   "outputs": [
    {
     "data": {
      "text/plain": [
       "count     47.000000\n",
       "mean      91.382979\n",
       "std       27.970911\n",
       "min       20.000000\n",
       "25%       81.000000\n",
       "50%       89.000000\n",
       "75%       97.000000\n",
       "max      220.000000\n",
       "Name: placement_score, dtype: float64"
      ]
     },
     "execution_count": 26,
     "metadata": {},
     "output_type": "execute_result"
    }
   ],
   "source": [
    "#getting the statistics\n",
    "ndf['placement_score'].describe()"
   ]
  },
  {
   "cell_type": "code",
   "execution_count": null,
   "id": "5d3ce265-b5f0-4814-9b2c-56a74682467a",
   "metadata": {},
   "outputs": [],
   "source": []
  }
 ],
 "metadata": {
  "kernelspec": {
   "display_name": "Python 3 (ipykernel)",
   "language": "python",
   "name": "python3"
  },
  "language_info": {
   "codemirror_mode": {
    "name": "ipython",
    "version": 3
   },
   "file_extension": ".py",
   "mimetype": "text/x-python",
   "name": "python",
   "nbconvert_exporter": "python",
   "pygments_lexer": "ipython3",
   "version": "3.11.0"
  }
 },
 "nbformat": 4,
 "nbformat_minor": 5
}

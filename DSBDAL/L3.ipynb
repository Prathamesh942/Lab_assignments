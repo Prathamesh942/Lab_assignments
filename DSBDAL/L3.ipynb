{
 "cells": [
  {
   "cell_type": "code",
   "execution_count": 1,
   "id": "072d81bf-7168-438d-a6d8-22338174f0ad",
   "metadata": {},
   "outputs": [],
   "source": [
    "import pandas as pd"
   ]
  },
  {
   "cell_type": "code",
   "execution_count": 2,
   "id": "5c650e16-56cf-4d1c-839a-27cb9f0cb035",
   "metadata": {},
   "outputs": [],
   "source": [
    "df = pd.read_csv('Employee_Salary_Dataset.csv')"
   ]
  },
  {
   "cell_type": "code",
   "execution_count": 3,
   "id": "2809d8cf-0f9a-4ac0-a605-9fa94d320c1c",
   "metadata": {},
   "outputs": [],
   "source": [
    "ndf = df"
   ]
  },
  {
   "cell_type": "code",
   "execution_count": 7,
   "id": "6e81124f-10c7-446f-8b10-49c8203e0145",
   "metadata": {},
   "outputs": [
    {
     "data": {
      "text/plain": [
       "(35, 5)"
      ]
     },
     "execution_count": 7,
     "metadata": {},
     "output_type": "execute_result"
    }
   ],
   "source": [
    "ndf.shape"
   ]
  },
  {
   "cell_type": "code",
   "execution_count": 8,
   "id": "100a56a8-7399-45f4-8375-79121281363f",
   "metadata": {},
   "outputs": [
    {
     "data": {
      "text/html": [
       "<div>\n",
       "<style scoped>\n",
       "    .dataframe tbody tr th:only-of-type {\n",
       "        vertical-align: middle;\n",
       "    }\n",
       "\n",
       "    .dataframe tbody tr th {\n",
       "        vertical-align: top;\n",
       "    }\n",
       "\n",
       "    .dataframe thead th {\n",
       "        text-align: right;\n",
       "    }\n",
       "</style>\n",
       "<table border=\"1\" class=\"dataframe\">\n",
       "  <thead>\n",
       "    <tr style=\"text-align: right;\">\n",
       "      <th></th>\n",
       "      <th>ID</th>\n",
       "      <th>Experience_Years</th>\n",
       "      <th>Age</th>\n",
       "      <th>Gender</th>\n",
       "      <th>Salary</th>\n",
       "    </tr>\n",
       "  </thead>\n",
       "  <tbody>\n",
       "    <tr>\n",
       "      <th>0</th>\n",
       "      <td>1</td>\n",
       "      <td>5</td>\n",
       "      <td>28</td>\n",
       "      <td>Female</td>\n",
       "      <td>250000</td>\n",
       "    </tr>\n",
       "    <tr>\n",
       "      <th>1</th>\n",
       "      <td>2</td>\n",
       "      <td>1</td>\n",
       "      <td>21</td>\n",
       "      <td>Male</td>\n",
       "      <td>50000</td>\n",
       "    </tr>\n",
       "    <tr>\n",
       "      <th>2</th>\n",
       "      <td>3</td>\n",
       "      <td>3</td>\n",
       "      <td>23</td>\n",
       "      <td>Female</td>\n",
       "      <td>170000</td>\n",
       "    </tr>\n",
       "    <tr>\n",
       "      <th>3</th>\n",
       "      <td>4</td>\n",
       "      <td>2</td>\n",
       "      <td>22</td>\n",
       "      <td>Male</td>\n",
       "      <td>25000</td>\n",
       "    </tr>\n",
       "    <tr>\n",
       "      <th>4</th>\n",
       "      <td>5</td>\n",
       "      <td>1</td>\n",
       "      <td>17</td>\n",
       "      <td>Male</td>\n",
       "      <td>10000</td>\n",
       "    </tr>\n",
       "  </tbody>\n",
       "</table>\n",
       "</div>"
      ],
      "text/plain": [
       "   ID  Experience_Years  Age  Gender  Salary\n",
       "0   1                 5   28  Female  250000\n",
       "1   2                 1   21    Male   50000\n",
       "2   3                 3   23  Female  170000\n",
       "3   4                 2   22    Male   25000\n",
       "4   5                 1   17    Male   10000"
      ]
     },
     "execution_count": 8,
     "metadata": {},
     "output_type": "execute_result"
    }
   ],
   "source": [
    "ndf.head()"
   ]
  },
  {
   "cell_type": "code",
   "execution_count": 9,
   "id": "9a7cf056-e822-4ac0-bc40-35a5e0f5edee",
   "metadata": {},
   "outputs": [
    {
     "data": {
      "text/html": [
       "<div>\n",
       "<style scoped>\n",
       "    .dataframe tbody tr th:only-of-type {\n",
       "        vertical-align: middle;\n",
       "    }\n",
       "\n",
       "    .dataframe tbody tr th {\n",
       "        vertical-align: top;\n",
       "    }\n",
       "\n",
       "    .dataframe thead th {\n",
       "        text-align: right;\n",
       "    }\n",
       "</style>\n",
       "<table border=\"1\" class=\"dataframe\">\n",
       "  <thead>\n",
       "    <tr style=\"text-align: right;\">\n",
       "      <th></th>\n",
       "      <th>ID</th>\n",
       "      <th>Experience_Years</th>\n",
       "      <th>Age</th>\n",
       "      <th>Gender</th>\n",
       "      <th>Salary</th>\n",
       "    </tr>\n",
       "  </thead>\n",
       "  <tbody>\n",
       "    <tr>\n",
       "      <th>30</th>\n",
       "      <td>31</td>\n",
       "      <td>10</td>\n",
       "      <td>34</td>\n",
       "      <td>Male</td>\n",
       "      <td>80000</td>\n",
       "    </tr>\n",
       "    <tr>\n",
       "      <th>31</th>\n",
       "      <td>32</td>\n",
       "      <td>15</td>\n",
       "      <td>54</td>\n",
       "      <td>Male</td>\n",
       "      <td>900000</td>\n",
       "    </tr>\n",
       "    <tr>\n",
       "      <th>32</th>\n",
       "      <td>33</td>\n",
       "      <td>20</td>\n",
       "      <td>55</td>\n",
       "      <td>Female</td>\n",
       "      <td>1540000</td>\n",
       "    </tr>\n",
       "    <tr>\n",
       "      <th>33</th>\n",
       "      <td>34</td>\n",
       "      <td>19</td>\n",
       "      <td>53</td>\n",
       "      <td>Female</td>\n",
       "      <td>9300000</td>\n",
       "    </tr>\n",
       "    <tr>\n",
       "      <th>34</th>\n",
       "      <td>35</td>\n",
       "      <td>16</td>\n",
       "      <td>49</td>\n",
       "      <td>Male</td>\n",
       "      <td>7600000</td>\n",
       "    </tr>\n",
       "  </tbody>\n",
       "</table>\n",
       "</div>"
      ],
      "text/plain": [
       "    ID  Experience_Years  Age  Gender   Salary\n",
       "30  31                10   34    Male    80000\n",
       "31  32                15   54    Male   900000\n",
       "32  33                20   55  Female  1540000\n",
       "33  34                19   53  Female  9300000\n",
       "34  35                16   49    Male  7600000"
      ]
     },
     "execution_count": 9,
     "metadata": {},
     "output_type": "execute_result"
    }
   ],
   "source": [
    "ndf.tail()"
   ]
  },
  {
   "cell_type": "code",
   "execution_count": 10,
   "id": "cac85bf1-0277-4463-bbad-69cdc376b7e9",
   "metadata": {},
   "outputs": [
    {
     "name": "stdout",
     "output_type": "stream",
     "text": [
      "<class 'pandas.core.frame.DataFrame'>\n",
      "RangeIndex: 35 entries, 0 to 34\n",
      "Data columns (total 5 columns):\n",
      " #   Column            Non-Null Count  Dtype \n",
      "---  ------            --------------  ----- \n",
      " 0   ID                35 non-null     int64 \n",
      " 1   Experience_Years  35 non-null     int64 \n",
      " 2   Age               35 non-null     int64 \n",
      " 3   Gender            35 non-null     object\n",
      " 4   Salary            35 non-null     int64 \n",
      "dtypes: int64(4), object(1)\n",
      "memory usage: 1.5+ KB\n"
     ]
    }
   ],
   "source": [
    "ndf.info()"
   ]
  },
  {
   "cell_type": "code",
   "execution_count": 11,
   "id": "5167ea1c-99e8-4f14-8bf1-41dc988cc9dc",
   "metadata": {},
   "outputs": [
    {
     "data": {
      "text/html": [
       "<div>\n",
       "<style scoped>\n",
       "    .dataframe tbody tr th:only-of-type {\n",
       "        vertical-align: middle;\n",
       "    }\n",
       "\n",
       "    .dataframe tbody tr th {\n",
       "        vertical-align: top;\n",
       "    }\n",
       "\n",
       "    .dataframe thead th {\n",
       "        text-align: right;\n",
       "    }\n",
       "</style>\n",
       "<table border=\"1\" class=\"dataframe\">\n",
       "  <thead>\n",
       "    <tr style=\"text-align: right;\">\n",
       "      <th></th>\n",
       "      <th>ID</th>\n",
       "      <th>Experience_Years</th>\n",
       "      <th>Age</th>\n",
       "      <th>Salary</th>\n",
       "    </tr>\n",
       "  </thead>\n",
       "  <tbody>\n",
       "    <tr>\n",
       "      <th>count</th>\n",
       "      <td>35.000000</td>\n",
       "      <td>35.00000</td>\n",
       "      <td>35.000000</td>\n",
       "      <td>3.500000e+01</td>\n",
       "    </tr>\n",
       "    <tr>\n",
       "      <th>mean</th>\n",
       "      <td>18.000000</td>\n",
       "      <td>9.20000</td>\n",
       "      <td>35.485714</td>\n",
       "      <td>2.059147e+06</td>\n",
       "    </tr>\n",
       "    <tr>\n",
       "      <th>std</th>\n",
       "      <td>10.246951</td>\n",
       "      <td>7.55295</td>\n",
       "      <td>14.643552</td>\n",
       "      <td>3.170124e+06</td>\n",
       "    </tr>\n",
       "    <tr>\n",
       "      <th>min</th>\n",
       "      <td>1.000000</td>\n",
       "      <td>1.00000</td>\n",
       "      <td>17.000000</td>\n",
       "      <td>3.000000e+03</td>\n",
       "    </tr>\n",
       "    <tr>\n",
       "      <th>25%</th>\n",
       "      <td>9.500000</td>\n",
       "      <td>2.50000</td>\n",
       "      <td>22.500000</td>\n",
       "      <td>2.250000e+04</td>\n",
       "    </tr>\n",
       "    <tr>\n",
       "      <th>50%</th>\n",
       "      <td>18.000000</td>\n",
       "      <td>6.00000</td>\n",
       "      <td>29.000000</td>\n",
       "      <td>2.500000e+05</td>\n",
       "    </tr>\n",
       "    <tr>\n",
       "      <th>75%</th>\n",
       "      <td>26.500000</td>\n",
       "      <td>15.00000</td>\n",
       "      <td>53.500000</td>\n",
       "      <td>3.270000e+06</td>\n",
       "    </tr>\n",
       "    <tr>\n",
       "      <th>max</th>\n",
       "      <td>35.000000</td>\n",
       "      <td>27.00000</td>\n",
       "      <td>62.000000</td>\n",
       "      <td>1.000000e+07</td>\n",
       "    </tr>\n",
       "  </tbody>\n",
       "</table>\n",
       "</div>"
      ],
      "text/plain": [
       "              ID  Experience_Years        Age        Salary\n",
       "count  35.000000          35.00000  35.000000  3.500000e+01\n",
       "mean   18.000000           9.20000  35.485714  2.059147e+06\n",
       "std    10.246951           7.55295  14.643552  3.170124e+06\n",
       "min     1.000000           1.00000  17.000000  3.000000e+03\n",
       "25%     9.500000           2.50000  22.500000  2.250000e+04\n",
       "50%    18.000000           6.00000  29.000000  2.500000e+05\n",
       "75%    26.500000          15.00000  53.500000  3.270000e+06\n",
       "max    35.000000          27.00000  62.000000  1.000000e+07"
      ]
     },
     "execution_count": 11,
     "metadata": {},
     "output_type": "execute_result"
    }
   ],
   "source": [
    "ndf.describe()"
   ]
  },
  {
   "cell_type": "code",
   "execution_count": 14,
   "id": "2624bfb6-e36c-4e47-bb20-7e4d88ef8838",
   "metadata": {},
   "outputs": [
    {
     "data": {
      "text/plain": [
       "ID                  0\n",
       "Experience_Years    0\n",
       "Age                 0\n",
       "Gender              0\n",
       "Salary              0\n",
       "dtype: int64"
      ]
     },
     "execution_count": 14,
     "metadata": {},
     "output_type": "execute_result"
    }
   ],
   "source": [
    "ndf.isnull().sum()"
   ]
  },
  {
   "cell_type": "code",
   "execution_count": 37,
   "id": "a0e0d106-0424-4545-8437-19fc4d228af2",
   "metadata": {},
   "outputs": [],
   "source": [
    "median = ndf[['Experience_Years','Age','Salary']].median()\n",
    "mode = ndf[['Experience_Years','Age','Salary']].mode()"
   ]
  },
  {
   "cell_type": "code",
   "execution_count": 40,
   "id": "ce82a42c-9e9e-44d9-81f5-eeede50bfbdb",
   "metadata": {},
   "outputs": [
    {
     "data": {
      "text/plain": [
       "Experience_Years         6.0\n",
       "Age                     29.0\n",
       "Salary              250000.0\n",
       "dtype: float64"
      ]
     },
     "execution_count": 40,
     "metadata": {},
     "output_type": "execute_result"
    }
   ],
   "source": [
    "median"
   ]
  },
  {
   "cell_type": "code",
   "execution_count": 41,
   "id": "90fa2e36-3a03-49aa-9398-66bc9cf7038a",
   "metadata": {},
   "outputs": [
    {
     "data": {
      "text/html": [
       "<div>\n",
       "<style scoped>\n",
       "    .dataframe tbody tr th:only-of-type {\n",
       "        vertical-align: middle;\n",
       "    }\n",
       "\n",
       "    .dataframe tbody tr th {\n",
       "        vertical-align: top;\n",
       "    }\n",
       "\n",
       "    .dataframe thead th {\n",
       "        text-align: right;\n",
       "    }\n",
       "</style>\n",
       "<table border=\"1\" class=\"dataframe\">\n",
       "  <thead>\n",
       "    <tr style=\"text-align: right;\">\n",
       "      <th></th>\n",
       "      <th>Experience_Years</th>\n",
       "      <th>Age</th>\n",
       "      <th>Salary</th>\n",
       "    </tr>\n",
       "  </thead>\n",
       "  <tbody>\n",
       "    <tr>\n",
       "      <th>0</th>\n",
       "      <td>2.0</td>\n",
       "      <td>54.0</td>\n",
       "      <td>25000</td>\n",
       "    </tr>\n",
       "    <tr>\n",
       "      <th>1</th>\n",
       "      <td>NaN</td>\n",
       "      <td>NaN</td>\n",
       "      <td>250000</td>\n",
       "    </tr>\n",
       "  </tbody>\n",
       "</table>\n",
       "</div>"
      ],
      "text/plain": [
       "   Experience_Years   Age  Salary\n",
       "0               2.0  54.0   25000\n",
       "1               NaN   NaN  250000"
      ]
     },
     "execution_count": 41,
     "metadata": {},
     "output_type": "execute_result"
    }
   ],
   "source": [
    "mode"
   ]
  },
  {
   "cell_type": "code",
   "execution_count": 19,
   "id": "172ac3a2-b7e7-48e2-a79c-a691d809aff9",
   "metadata": {},
   "outputs": [],
   "source": [
    "ndf2 = ndf.groupby('Gender')"
   ]
  },
  {
   "cell_type": "code",
   "execution_count": 25,
   "id": "881c440b-1516-44b8-80ef-a2d293eb90b6",
   "metadata": {},
   "outputs": [
    {
     "name": "stdout",
     "output_type": "stream",
     "text": [
      "Female\n",
      "    ID  Experience_Years  Age  Gender    Salary\n",
      "0    1                 5   28  Female    250000\n",
      "2    3                 3   23  Female    170000\n",
      "6    7                19   54  Female    800000\n",
      "7    8                 2   21  Female      9000\n",
      "8    9                10   36  Female     61500\n",
      "9   10                15   54  Female    650000\n",
      "10  11                 4   26  Female    250000\n",
      "15  16                 4   27  Female     87000\n",
      "16  17                10   34  Female    930000\n",
      "17  18                15   54  Female   7900000\n",
      "23  24                 1   21  Female      6000\n",
      "24  25                 4   23  Female      8900\n",
      "25  26                 3   22  Female     20000\n",
      "27  28                27   62  Female  10000000\n",
      "28  29                19   54  Female   5000000\n",
      "29  30                 2   21  Female      6100\n",
      "32  33                20   55  Female   1540000\n",
      "33  34                19   53  Female   9300000\n",
      "Male\n",
      "    ID  Experience_Years  Age Gender   Salary\n",
      "1    2                 1   21   Male    50000\n",
      "3    4                 2   22   Male    25000\n",
      "4    5                 1   17   Male    10000\n",
      "5    6                25   62   Male  5001000\n",
      "11  12                 6   29   Male  1400000\n",
      "12  13                14   39   Male  6000050\n",
      "13  14                11   40   Male   220100\n",
      "14  15                 2   23   Male     7500\n",
      "18  19                 2   21   Male    15000\n",
      "19  20                10   36   Male   330000\n",
      "20  21                15   54   Male  6570000\n",
      "21  22                 4   26   Male    25000\n",
      "22  23                 5   29   Male  6845000\n",
      "26  27                 1   18   Male     3000\n",
      "30  31                10   34   Male    80000\n",
      "31  32                15   54   Male   900000\n",
      "34  35                16   49   Male  7600000\n"
     ]
    }
   ],
   "source": [
    "for female,male in ndf2:\n",
    "    print(female)\n",
    "    print(male)"
   ]
  },
  {
   "cell_type": "code",
   "execution_count": 52,
   "id": "1385c106-1466-447e-a67a-52acfea7ea51",
   "metadata": {},
   "outputs": [
    {
     "data": {
      "text/html": [
       "<div>\n",
       "<style scoped>\n",
       "    .dataframe tbody tr th:only-of-type {\n",
       "        vertical-align: middle;\n",
       "    }\n",
       "\n",
       "    .dataframe tbody tr th {\n",
       "        vertical-align: top;\n",
       "    }\n",
       "\n",
       "    .dataframe thead th {\n",
       "        text-align: right;\n",
       "    }\n",
       "</style>\n",
       "<table border=\"1\" class=\"dataframe\">\n",
       "  <thead>\n",
       "    <tr style=\"text-align: right;\">\n",
       "      <th></th>\n",
       "      <th>Experience_Years</th>\n",
       "      <th>Age</th>\n",
       "      <th>Salary</th>\n",
       "    </tr>\n",
       "    <tr>\n",
       "      <th>Gender</th>\n",
       "      <th></th>\n",
       "      <th></th>\n",
       "      <th></th>\n",
       "    </tr>\n",
       "  </thead>\n",
       "  <tbody>\n",
       "    <tr>\n",
       "      <th>Female</th>\n",
       "      <td>7.5</td>\n",
       "      <td>31.0</td>\n",
       "      <td>250000.0</td>\n",
       "    </tr>\n",
       "    <tr>\n",
       "      <th>Male</th>\n",
       "      <td>6.0</td>\n",
       "      <td>29.0</td>\n",
       "      <td>220100.0</td>\n",
       "    </tr>\n",
       "  </tbody>\n",
       "</table>\n",
       "</div>"
      ],
      "text/plain": [
       "        Experience_Years   Age    Salary\n",
       "Gender                                  \n",
       "Female               7.5  31.0  250000.0\n",
       "Male                 6.0  29.0  220100.0"
      ]
     },
     "execution_count": 52,
     "metadata": {},
     "output_type": "execute_result"
    }
   ],
   "source": [
    "ndf2[['Experience_Years','Age','Salary']].median()"
   ]
  },
  {
   "cell_type": "code",
   "execution_count": 53,
   "id": "7238c47e-ab54-4d77-8ae4-616a0f2c0724",
   "metadata": {},
   "outputs": [
    {
     "data": {
      "text/html": [
       "<div>\n",
       "<style scoped>\n",
       "    .dataframe tbody tr th:only-of-type {\n",
       "        vertical-align: middle;\n",
       "    }\n",
       "\n",
       "    .dataframe tbody tr th {\n",
       "        vertical-align: top;\n",
       "    }\n",
       "\n",
       "    .dataframe thead th {\n",
       "        text-align: right;\n",
       "    }\n",
       "</style>\n",
       "<table border=\"1\" class=\"dataframe\">\n",
       "  <thead>\n",
       "    <tr style=\"text-align: right;\">\n",
       "      <th></th>\n",
       "      <th>Experience_Years</th>\n",
       "      <th>Age</th>\n",
       "      <th>Salary</th>\n",
       "    </tr>\n",
       "    <tr>\n",
       "      <th>Gender</th>\n",
       "      <th></th>\n",
       "      <th></th>\n",
       "      <th></th>\n",
       "    </tr>\n",
       "  </thead>\n",
       "  <tbody>\n",
       "    <tr>\n",
       "      <th>Female</th>\n",
       "      <td>1</td>\n",
       "      <td>21</td>\n",
       "      <td>6000</td>\n",
       "    </tr>\n",
       "    <tr>\n",
       "      <th>Male</th>\n",
       "      <td>1</td>\n",
       "      <td>17</td>\n",
       "      <td>3000</td>\n",
       "    </tr>\n",
       "  </tbody>\n",
       "</table>\n",
       "</div>"
      ],
      "text/plain": [
       "        Experience_Years  Age  Salary\n",
       "Gender                               \n",
       "Female                 1   21    6000\n",
       "Male                   1   17    3000"
      ]
     },
     "execution_count": 53,
     "metadata": {},
     "output_type": "execute_result"
    }
   ],
   "source": [
    "ndf2[['Experience_Years','Age','Salary']].min()"
   ]
  },
  {
   "cell_type": "code",
   "execution_count": 54,
   "id": "05bcdd66-daf0-48d4-949e-ab0bde25d84f",
   "metadata": {},
   "outputs": [
    {
     "data": {
      "text/html": [
       "<div>\n",
       "<style scoped>\n",
       "    .dataframe tbody tr th:only-of-type {\n",
       "        vertical-align: middle;\n",
       "    }\n",
       "\n",
       "    .dataframe tbody tr th {\n",
       "        vertical-align: top;\n",
       "    }\n",
       "\n",
       "    .dataframe thead th {\n",
       "        text-align: right;\n",
       "    }\n",
       "</style>\n",
       "<table border=\"1\" class=\"dataframe\">\n",
       "  <thead>\n",
       "    <tr style=\"text-align: right;\">\n",
       "      <th></th>\n",
       "      <th>Experience_Years</th>\n",
       "      <th>Age</th>\n",
       "      <th>Salary</th>\n",
       "    </tr>\n",
       "    <tr>\n",
       "      <th>Gender</th>\n",
       "      <th></th>\n",
       "      <th></th>\n",
       "      <th></th>\n",
       "    </tr>\n",
       "  </thead>\n",
       "  <tbody>\n",
       "    <tr>\n",
       "      <th>Female</th>\n",
       "      <td>27</td>\n",
       "      <td>62</td>\n",
       "      <td>10000000</td>\n",
       "    </tr>\n",
       "    <tr>\n",
       "      <th>Male</th>\n",
       "      <td>25</td>\n",
       "      <td>62</td>\n",
       "      <td>7600000</td>\n",
       "    </tr>\n",
       "  </tbody>\n",
       "</table>\n",
       "</div>"
      ],
      "text/plain": [
       "        Experience_Years  Age    Salary\n",
       "Gender                                 \n",
       "Female                27   62  10000000\n",
       "Male                  25   62   7600000"
      ]
     },
     "execution_count": 54,
     "metadata": {},
     "output_type": "execute_result"
    }
   ],
   "source": [
    "ndf2[['Experience_Years','Age','Salary']].max()"
   ]
  },
  {
   "cell_type": "code",
   "execution_count": 55,
   "id": "1bf95a79-0db4-427b-8710-2351236f8ddb",
   "metadata": {},
   "outputs": [
    {
     "data": {
      "text/html": [
       "<div>\n",
       "<style scoped>\n",
       "    .dataframe tbody tr th:only-of-type {\n",
       "        vertical-align: middle;\n",
       "    }\n",
       "\n",
       "    .dataframe tbody tr th {\n",
       "        vertical-align: top;\n",
       "    }\n",
       "\n",
       "    .dataframe thead th {\n",
       "        text-align: right;\n",
       "    }\n",
       "</style>\n",
       "<table border=\"1\" class=\"dataframe\">\n",
       "  <thead>\n",
       "    <tr style=\"text-align: right;\">\n",
       "      <th></th>\n",
       "      <th>Experience_Years</th>\n",
       "      <th>Age</th>\n",
       "      <th>Salary</th>\n",
       "    </tr>\n",
       "    <tr>\n",
       "      <th>Gender</th>\n",
       "      <th></th>\n",
       "      <th></th>\n",
       "      <th></th>\n",
       "    </tr>\n",
       "  </thead>\n",
       "  <tbody>\n",
       "    <tr>\n",
       "      <th>Female</th>\n",
       "      <td>10.111111</td>\n",
       "      <td>37.111111</td>\n",
       "      <td>2.054917e+06</td>\n",
       "    </tr>\n",
       "    <tr>\n",
       "      <th>Male</th>\n",
       "      <td>8.235294</td>\n",
       "      <td>33.764706</td>\n",
       "      <td>2.063626e+06</td>\n",
       "    </tr>\n",
       "  </tbody>\n",
       "</table>\n",
       "</div>"
      ],
      "text/plain": [
       "        Experience_Years        Age        Salary\n",
       "Gender                                           \n",
       "Female         10.111111  37.111111  2.054917e+06\n",
       "Male            8.235294  33.764706  2.063626e+06"
      ]
     },
     "execution_count": 55,
     "metadata": {},
     "output_type": "execute_result"
    }
   ],
   "source": [
    "ndf2[['Experience_Years','Age','Salary']].mean()"
   ]
  },
  {
   "cell_type": "code",
   "execution_count": null,
   "id": "b716a6f1-f916-40f6-9873-8996ef077cb1",
   "metadata": {},
   "outputs": [],
   "source": []
  }
 ],
 "metadata": {
  "kernelspec": {
   "display_name": "Python 3 (ipykernel)",
   "language": "python",
   "name": "python3"
  },
  "language_info": {
   "codemirror_mode": {
    "name": "ipython",
    "version": 3
   },
   "file_extension": ".py",
   "mimetype": "text/x-python",
   "name": "python",
   "nbconvert_exporter": "python",
   "pygments_lexer": "ipython3",
   "version": "3.10.12"
  }
 },
 "nbformat": 4,
 "nbformat_minor": 5
}
